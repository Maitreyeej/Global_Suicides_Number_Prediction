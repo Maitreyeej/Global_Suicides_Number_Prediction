{
  "nbformat": 4,
  "nbformat_minor": 0,
  "metadata": {
    "colab": {
      "name": "Suicide_Rates.ipynb",
      "provenance": [],
      "collapsed_sections": [],
      "mount_file_id": "1Zis2QkVthsC0wUywPeExWi2eV4R4KANO",
      "authorship_tag": "ABX9TyMTgeHv6SUq+3F+BgfSk6Mk",
      "include_colab_link": true
    },
    "kernelspec": {
      "name": "python3",
      "display_name": "Python 3"
    },
    "language_info": {
      "name": "python"
    }
  },
  "cells": [
    {
      "cell_type": "markdown",
      "metadata": {
        "id": "view-in-github",
        "colab_type": "text"
      },
      "source": [
        "<a href=\"https://colab.research.google.com/github/Maitreyeej/Global_Suicides_Number_Prediction/blob/main/Suicide_Rates.ipynb\" target=\"_parent\"><img src=\"https://colab.research.google.com/assets/colab-badge.svg\" alt=\"Open In Colab\"/></a>"
      ]
    },
    {
      "cell_type": "markdown",
      "metadata": {
        "id": "EpePu9t0aAgk"
      },
      "source": [
        "# **Imports and Creating a Dataframe**"
      ]
    },
    {
      "cell_type": "code",
      "metadata": {
        "id": "QRngM0UVM6nj"
      },
      "source": [
        "from sklearn.preprocessing import StandardScaler        #Import modules for modeling\n",
        "from sklearn.neighbors import KNeighborsRegressor\n",
        "from sklearn.model_selection import train_test_split\n",
        "from sklearn.ensemble import BaggingRegressor\n",
        "from sklearn.ensemble import RandomForestRegressor \n",
        "from sklearn.metrics import mean_squared_error\n",
        "from sklearn.linear_model import LinearRegression"
      ],
      "execution_count": 2,
      "outputs": []
    },
    {
      "cell_type": "code",
      "metadata": {
        "colab": {
          "base_uri": "https://localhost:8080/",
          "height": 204
        },
        "id": "yw0MM_xdDUob",
        "outputId": "3ff7e265-b0f3-4245-e1de-810bc5e4cc93"
      },
      "source": [
        "import pandas as pd             #Basic module import\n",
        "import numpy as np\n",
        "import seaborn as sns\n",
        "import matplotlib.pyplot as plt\n",
        "\n",
        "filename = '/content/drive/MyDrive/CODING_DOJO/suicide.csv'\n",
        "Suicide_df=pd.read_csv(filename) \n",
        "Suicide_df.head()"
      ],
      "execution_count": 3,
      "outputs": [
        {
          "output_type": "execute_result",
          "data": {
            "text/html": [
              "<div>\n",
              "<style scoped>\n",
              "    .dataframe tbody tr th:only-of-type {\n",
              "        vertical-align: middle;\n",
              "    }\n",
              "\n",
              "    .dataframe tbody tr th {\n",
              "        vertical-align: top;\n",
              "    }\n",
              "\n",
              "    .dataframe thead th {\n",
              "        text-align: right;\n",
              "    }\n",
              "</style>\n",
              "<table border=\"1\" class=\"dataframe\">\n",
              "  <thead>\n",
              "    <tr style=\"text-align: right;\">\n",
              "      <th></th>\n",
              "      <th>country</th>\n",
              "      <th>year</th>\n",
              "      <th>sex</th>\n",
              "      <th>age</th>\n",
              "      <th>suicides_no</th>\n",
              "      <th>population</th>\n",
              "      <th>suicides/100k pop</th>\n",
              "      <th>country-year</th>\n",
              "      <th>HDI for year</th>\n",
              "      <th>gdp_for_year ($)</th>\n",
              "      <th>gdp_per_capita ($)</th>\n",
              "      <th>generation</th>\n",
              "    </tr>\n",
              "  </thead>\n",
              "  <tbody>\n",
              "    <tr>\n",
              "      <th>0</th>\n",
              "      <td>Albania</td>\n",
              "      <td>1987</td>\n",
              "      <td>male</td>\n",
              "      <td>15-24 years</td>\n",
              "      <td>21</td>\n",
              "      <td>312900</td>\n",
              "      <td>6.71</td>\n",
              "      <td>Albania1987</td>\n",
              "      <td>NaN</td>\n",
              "      <td>2,156,624,900</td>\n",
              "      <td>796</td>\n",
              "      <td>Generation X</td>\n",
              "    </tr>\n",
              "    <tr>\n",
              "      <th>1</th>\n",
              "      <td>Albania</td>\n",
              "      <td>1987</td>\n",
              "      <td>male</td>\n",
              "      <td>35-54 years</td>\n",
              "      <td>16</td>\n",
              "      <td>308000</td>\n",
              "      <td>5.19</td>\n",
              "      <td>Albania1987</td>\n",
              "      <td>NaN</td>\n",
              "      <td>2,156,624,900</td>\n",
              "      <td>796</td>\n",
              "      <td>Silent</td>\n",
              "    </tr>\n",
              "    <tr>\n",
              "      <th>2</th>\n",
              "      <td>Albania</td>\n",
              "      <td>1987</td>\n",
              "      <td>female</td>\n",
              "      <td>15-24 years</td>\n",
              "      <td>14</td>\n",
              "      <td>289700</td>\n",
              "      <td>4.83</td>\n",
              "      <td>Albania1987</td>\n",
              "      <td>NaN</td>\n",
              "      <td>2,156,624,900</td>\n",
              "      <td>796</td>\n",
              "      <td>Generation X</td>\n",
              "    </tr>\n",
              "    <tr>\n",
              "      <th>3</th>\n",
              "      <td>Albania</td>\n",
              "      <td>1987</td>\n",
              "      <td>male</td>\n",
              "      <td>75+ years</td>\n",
              "      <td>1</td>\n",
              "      <td>21800</td>\n",
              "      <td>4.59</td>\n",
              "      <td>Albania1987</td>\n",
              "      <td>NaN</td>\n",
              "      <td>2,156,624,900</td>\n",
              "      <td>796</td>\n",
              "      <td>G.I. Generation</td>\n",
              "    </tr>\n",
              "    <tr>\n",
              "      <th>4</th>\n",
              "      <td>Albania</td>\n",
              "      <td>1987</td>\n",
              "      <td>male</td>\n",
              "      <td>25-34 years</td>\n",
              "      <td>9</td>\n",
              "      <td>274300</td>\n",
              "      <td>3.28</td>\n",
              "      <td>Albania1987</td>\n",
              "      <td>NaN</td>\n",
              "      <td>2,156,624,900</td>\n",
              "      <td>796</td>\n",
              "      <td>Boomers</td>\n",
              "    </tr>\n",
              "  </tbody>\n",
              "</table>\n",
              "</div>"
            ],
            "text/plain": [
              "   country  year  ... gdp_per_capita ($)       generation\n",
              "0  Albania  1987  ...                796     Generation X\n",
              "1  Albania  1987  ...                796           Silent\n",
              "2  Albania  1987  ...                796     Generation X\n",
              "3  Albania  1987  ...                796  G.I. Generation\n",
              "4  Albania  1987  ...                796          Boomers\n",
              "\n",
              "[5 rows x 12 columns]"
            ]
          },
          "metadata": {
            "tags": []
          },
          "execution_count": 3
        }
      ]
    },
    {
      "cell_type": "markdown",
      "metadata": {
        "id": "igBEo9cZZ1mw"
      },
      "source": [
        "# **Data Evaluation**"
      ]
    },
    {
      "cell_type": "code",
      "metadata": {
        "colab": {
          "base_uri": "https://localhost:8080/"
        },
        "id": "Q7edECuvXf9C",
        "outputId": "1fa68110-f641-4493-ee08-28d341b2d5cd"
      },
      "source": [
        "Suicide_df.info()       #Basic info for the data available"
      ],
      "execution_count": 4,
      "outputs": [
        {
          "output_type": "stream",
          "text": [
            "<class 'pandas.core.frame.DataFrame'>\n",
            "RangeIndex: 27820 entries, 0 to 27819\n",
            "Data columns (total 12 columns):\n",
            " #   Column              Non-Null Count  Dtype  \n",
            "---  ------              --------------  -----  \n",
            " 0   country             27820 non-null  object \n",
            " 1   year                27820 non-null  int64  \n",
            " 2   sex                 27820 non-null  object \n",
            " 3   age                 27820 non-null  object \n",
            " 4   suicides_no         27820 non-null  int64  \n",
            " 5   population          27820 non-null  int64  \n",
            " 6   suicides/100k pop   27820 non-null  float64\n",
            " 7   country-year        27820 non-null  object \n",
            " 8   HDI for year        8364 non-null   float64\n",
            " 9    gdp_for_year ($)   27820 non-null  object \n",
            " 10  gdp_per_capita ($)  27820 non-null  int64  \n",
            " 11  generation          27820 non-null  object \n",
            "dtypes: float64(2), int64(4), object(6)\n",
            "memory usage: 2.5+ MB\n"
          ],
          "name": "stdout"
        }
      ]
    },
    {
      "cell_type": "code",
      "metadata": {
        "colab": {
          "base_uri": "https://localhost:8080/",
          "height": 297
        },
        "id": "rQ024Vxawosm",
        "outputId": "7a88aa86-a35a-4b19-ec1b-4391e36d5b77"
      },
      "source": [
        "Suicide_df.describe()    #Basic description of parameters"
      ],
      "execution_count": 5,
      "outputs": [
        {
          "output_type": "execute_result",
          "data": {
            "text/html": [
              "<div>\n",
              "<style scoped>\n",
              "    .dataframe tbody tr th:only-of-type {\n",
              "        vertical-align: middle;\n",
              "    }\n",
              "\n",
              "    .dataframe tbody tr th {\n",
              "        vertical-align: top;\n",
              "    }\n",
              "\n",
              "    .dataframe thead th {\n",
              "        text-align: right;\n",
              "    }\n",
              "</style>\n",
              "<table border=\"1\" class=\"dataframe\">\n",
              "  <thead>\n",
              "    <tr style=\"text-align: right;\">\n",
              "      <th></th>\n",
              "      <th>year</th>\n",
              "      <th>suicides_no</th>\n",
              "      <th>population</th>\n",
              "      <th>suicides/100k pop</th>\n",
              "      <th>HDI for year</th>\n",
              "      <th>gdp_per_capita ($)</th>\n",
              "    </tr>\n",
              "  </thead>\n",
              "  <tbody>\n",
              "    <tr>\n",
              "      <th>count</th>\n",
              "      <td>27820.000000</td>\n",
              "      <td>27820.000000</td>\n",
              "      <td>2.782000e+04</td>\n",
              "      <td>27820.000000</td>\n",
              "      <td>8364.000000</td>\n",
              "      <td>27820.000000</td>\n",
              "    </tr>\n",
              "    <tr>\n",
              "      <th>mean</th>\n",
              "      <td>2001.258375</td>\n",
              "      <td>242.574407</td>\n",
              "      <td>1.844794e+06</td>\n",
              "      <td>12.816097</td>\n",
              "      <td>0.776601</td>\n",
              "      <td>16866.464414</td>\n",
              "    </tr>\n",
              "    <tr>\n",
              "      <th>std</th>\n",
              "      <td>8.469055</td>\n",
              "      <td>902.047917</td>\n",
              "      <td>3.911779e+06</td>\n",
              "      <td>18.961511</td>\n",
              "      <td>0.093367</td>\n",
              "      <td>18887.576472</td>\n",
              "    </tr>\n",
              "    <tr>\n",
              "      <th>min</th>\n",
              "      <td>1985.000000</td>\n",
              "      <td>0.000000</td>\n",
              "      <td>2.780000e+02</td>\n",
              "      <td>0.000000</td>\n",
              "      <td>0.483000</td>\n",
              "      <td>251.000000</td>\n",
              "    </tr>\n",
              "    <tr>\n",
              "      <th>25%</th>\n",
              "      <td>1995.000000</td>\n",
              "      <td>3.000000</td>\n",
              "      <td>9.749850e+04</td>\n",
              "      <td>0.920000</td>\n",
              "      <td>0.713000</td>\n",
              "      <td>3447.000000</td>\n",
              "    </tr>\n",
              "    <tr>\n",
              "      <th>50%</th>\n",
              "      <td>2002.000000</td>\n",
              "      <td>25.000000</td>\n",
              "      <td>4.301500e+05</td>\n",
              "      <td>5.990000</td>\n",
              "      <td>0.779000</td>\n",
              "      <td>9372.000000</td>\n",
              "    </tr>\n",
              "    <tr>\n",
              "      <th>75%</th>\n",
              "      <td>2008.000000</td>\n",
              "      <td>131.000000</td>\n",
              "      <td>1.486143e+06</td>\n",
              "      <td>16.620000</td>\n",
              "      <td>0.855000</td>\n",
              "      <td>24874.000000</td>\n",
              "    </tr>\n",
              "    <tr>\n",
              "      <th>max</th>\n",
              "      <td>2016.000000</td>\n",
              "      <td>22338.000000</td>\n",
              "      <td>4.380521e+07</td>\n",
              "      <td>224.970000</td>\n",
              "      <td>0.944000</td>\n",
              "      <td>126352.000000</td>\n",
              "    </tr>\n",
              "  </tbody>\n",
              "</table>\n",
              "</div>"
            ],
            "text/plain": [
              "               year   suicides_no  ...  HDI for year  gdp_per_capita ($)\n",
              "count  27820.000000  27820.000000  ...   8364.000000        27820.000000\n",
              "mean    2001.258375    242.574407  ...      0.776601        16866.464414\n",
              "std        8.469055    902.047917  ...      0.093367        18887.576472\n",
              "min     1985.000000      0.000000  ...      0.483000          251.000000\n",
              "25%     1995.000000      3.000000  ...      0.713000         3447.000000\n",
              "50%     2002.000000     25.000000  ...      0.779000         9372.000000\n",
              "75%     2008.000000    131.000000  ...      0.855000        24874.000000\n",
              "max     2016.000000  22338.000000  ...      0.944000       126352.000000\n",
              "\n",
              "[8 rows x 6 columns]"
            ]
          },
          "metadata": {
            "tags": []
          },
          "execution_count": 5
        }
      ]
    },
    {
      "cell_type": "code",
      "metadata": {
        "colab": {
          "base_uri": "https://localhost:8080/"
        },
        "id": "HsVae4e7w5et",
        "outputId": "bf62e356-0932-47bb-e37f-97c7ff92be42"
      },
      "source": [
        "Suicide_df['age'].value_counts()          # checking number of age groups"
      ],
      "execution_count": 6,
      "outputs": [
        {
          "output_type": "execute_result",
          "data": {
            "text/plain": [
              "75+ years      4642\n",
              "55-74 years    4642\n",
              "15-24 years    4642\n",
              "35-54 years    4642\n",
              "25-34 years    4642\n",
              "5-14 years     4610\n",
              "Name: age, dtype: int64"
            ]
          },
          "metadata": {
            "tags": []
          },
          "execution_count": 6
        }
      ]
    },
    {
      "cell_type": "code",
      "metadata": {
        "colab": {
          "base_uri": "https://localhost:8080/"
        },
        "id": "wjsGHaUez3iZ",
        "outputId": "0c2f5b54-b01a-4909-8368-c9860e705930"
      },
      "source": [
        "Suicide_df['generation'].value_counts()         #check for number generation groups"
      ],
      "execution_count": 7,
      "outputs": [
        {
          "output_type": "execute_result",
          "data": {
            "text/plain": [
              "Generation X       6408\n",
              "Silent             6364\n",
              "Millenials         5844\n",
              "Boomers            4990\n",
              "G.I. Generation    2744\n",
              "Generation Z       1470\n",
              "Name: generation, dtype: int64"
            ]
          },
          "metadata": {
            "tags": []
          },
          "execution_count": 7
        }
      ]
    },
    {
      "cell_type": "code",
      "metadata": {
        "id": "BwglK0820fZA"
      },
      "source": [
        "Suicide_df=Suicide_df.drop(columns=['country-year', 'HDI for year'])      #dropping the columns due to excessive missing data and duplicated information from other columns"
      ],
      "execution_count": 8,
      "outputs": []
    },
    {
      "cell_type": "code",
      "metadata": {
        "colab": {
          "base_uri": "https://localhost:8080/",
          "height": 419
        },
        "id": "mKA4lark0qsR",
        "outputId": "8ce7a1b4-b108-4c21-b4fd-242074c7277f"
      },
      "source": [
        "Suicide_df"
      ],
      "execution_count": 9,
      "outputs": [
        {
          "output_type": "execute_result",
          "data": {
            "text/html": [
              "<div>\n",
              "<style scoped>\n",
              "    .dataframe tbody tr th:only-of-type {\n",
              "        vertical-align: middle;\n",
              "    }\n",
              "\n",
              "    .dataframe tbody tr th {\n",
              "        vertical-align: top;\n",
              "    }\n",
              "\n",
              "    .dataframe thead th {\n",
              "        text-align: right;\n",
              "    }\n",
              "</style>\n",
              "<table border=\"1\" class=\"dataframe\">\n",
              "  <thead>\n",
              "    <tr style=\"text-align: right;\">\n",
              "      <th></th>\n",
              "      <th>country</th>\n",
              "      <th>year</th>\n",
              "      <th>sex</th>\n",
              "      <th>age</th>\n",
              "      <th>suicides_no</th>\n",
              "      <th>population</th>\n",
              "      <th>suicides/100k pop</th>\n",
              "      <th>gdp_for_year ($)</th>\n",
              "      <th>gdp_per_capita ($)</th>\n",
              "      <th>generation</th>\n",
              "    </tr>\n",
              "  </thead>\n",
              "  <tbody>\n",
              "    <tr>\n",
              "      <th>0</th>\n",
              "      <td>Albania</td>\n",
              "      <td>1987</td>\n",
              "      <td>male</td>\n",
              "      <td>15-24 years</td>\n",
              "      <td>21</td>\n",
              "      <td>312900</td>\n",
              "      <td>6.71</td>\n",
              "      <td>2,156,624,900</td>\n",
              "      <td>796</td>\n",
              "      <td>Generation X</td>\n",
              "    </tr>\n",
              "    <tr>\n",
              "      <th>1</th>\n",
              "      <td>Albania</td>\n",
              "      <td>1987</td>\n",
              "      <td>male</td>\n",
              "      <td>35-54 years</td>\n",
              "      <td>16</td>\n",
              "      <td>308000</td>\n",
              "      <td>5.19</td>\n",
              "      <td>2,156,624,900</td>\n",
              "      <td>796</td>\n",
              "      <td>Silent</td>\n",
              "    </tr>\n",
              "    <tr>\n",
              "      <th>2</th>\n",
              "      <td>Albania</td>\n",
              "      <td>1987</td>\n",
              "      <td>female</td>\n",
              "      <td>15-24 years</td>\n",
              "      <td>14</td>\n",
              "      <td>289700</td>\n",
              "      <td>4.83</td>\n",
              "      <td>2,156,624,900</td>\n",
              "      <td>796</td>\n",
              "      <td>Generation X</td>\n",
              "    </tr>\n",
              "    <tr>\n",
              "      <th>3</th>\n",
              "      <td>Albania</td>\n",
              "      <td>1987</td>\n",
              "      <td>male</td>\n",
              "      <td>75+ years</td>\n",
              "      <td>1</td>\n",
              "      <td>21800</td>\n",
              "      <td>4.59</td>\n",
              "      <td>2,156,624,900</td>\n",
              "      <td>796</td>\n",
              "      <td>G.I. Generation</td>\n",
              "    </tr>\n",
              "    <tr>\n",
              "      <th>4</th>\n",
              "      <td>Albania</td>\n",
              "      <td>1987</td>\n",
              "      <td>male</td>\n",
              "      <td>25-34 years</td>\n",
              "      <td>9</td>\n",
              "      <td>274300</td>\n",
              "      <td>3.28</td>\n",
              "      <td>2,156,624,900</td>\n",
              "      <td>796</td>\n",
              "      <td>Boomers</td>\n",
              "    </tr>\n",
              "    <tr>\n",
              "      <th>...</th>\n",
              "      <td>...</td>\n",
              "      <td>...</td>\n",
              "      <td>...</td>\n",
              "      <td>...</td>\n",
              "      <td>...</td>\n",
              "      <td>...</td>\n",
              "      <td>...</td>\n",
              "      <td>...</td>\n",
              "      <td>...</td>\n",
              "      <td>...</td>\n",
              "    </tr>\n",
              "    <tr>\n",
              "      <th>27815</th>\n",
              "      <td>Uzbekistan</td>\n",
              "      <td>2014</td>\n",
              "      <td>female</td>\n",
              "      <td>35-54 years</td>\n",
              "      <td>107</td>\n",
              "      <td>3620833</td>\n",
              "      <td>2.96</td>\n",
              "      <td>63,067,077,179</td>\n",
              "      <td>2309</td>\n",
              "      <td>Generation X</td>\n",
              "    </tr>\n",
              "    <tr>\n",
              "      <th>27816</th>\n",
              "      <td>Uzbekistan</td>\n",
              "      <td>2014</td>\n",
              "      <td>female</td>\n",
              "      <td>75+ years</td>\n",
              "      <td>9</td>\n",
              "      <td>348465</td>\n",
              "      <td>2.58</td>\n",
              "      <td>63,067,077,179</td>\n",
              "      <td>2309</td>\n",
              "      <td>Silent</td>\n",
              "    </tr>\n",
              "    <tr>\n",
              "      <th>27817</th>\n",
              "      <td>Uzbekistan</td>\n",
              "      <td>2014</td>\n",
              "      <td>male</td>\n",
              "      <td>5-14 years</td>\n",
              "      <td>60</td>\n",
              "      <td>2762158</td>\n",
              "      <td>2.17</td>\n",
              "      <td>63,067,077,179</td>\n",
              "      <td>2309</td>\n",
              "      <td>Generation Z</td>\n",
              "    </tr>\n",
              "    <tr>\n",
              "      <th>27818</th>\n",
              "      <td>Uzbekistan</td>\n",
              "      <td>2014</td>\n",
              "      <td>female</td>\n",
              "      <td>5-14 years</td>\n",
              "      <td>44</td>\n",
              "      <td>2631600</td>\n",
              "      <td>1.67</td>\n",
              "      <td>63,067,077,179</td>\n",
              "      <td>2309</td>\n",
              "      <td>Generation Z</td>\n",
              "    </tr>\n",
              "    <tr>\n",
              "      <th>27819</th>\n",
              "      <td>Uzbekistan</td>\n",
              "      <td>2014</td>\n",
              "      <td>female</td>\n",
              "      <td>55-74 years</td>\n",
              "      <td>21</td>\n",
              "      <td>1438935</td>\n",
              "      <td>1.46</td>\n",
              "      <td>63,067,077,179</td>\n",
              "      <td>2309</td>\n",
              "      <td>Boomers</td>\n",
              "    </tr>\n",
              "  </tbody>\n",
              "</table>\n",
              "<p>27820 rows × 10 columns</p>\n",
              "</div>"
            ],
            "text/plain": [
              "          country  year  ... gdp_per_capita ($)       generation\n",
              "0         Albania  1987  ...                796     Generation X\n",
              "1         Albania  1987  ...                796           Silent\n",
              "2         Albania  1987  ...                796     Generation X\n",
              "3         Albania  1987  ...                796  G.I. Generation\n",
              "4         Albania  1987  ...                796          Boomers\n",
              "...           ...   ...  ...                ...              ...\n",
              "27815  Uzbekistan  2014  ...               2309     Generation X\n",
              "27816  Uzbekistan  2014  ...               2309           Silent\n",
              "27817  Uzbekistan  2014  ...               2309     Generation Z\n",
              "27818  Uzbekistan  2014  ...               2309     Generation Z\n",
              "27819  Uzbekistan  2014  ...               2309          Boomers\n",
              "\n",
              "[27820 rows x 10 columns]"
            ]
          },
          "metadata": {
            "tags": []
          },
          "execution_count": 9
        }
      ]
    },
    {
      "cell_type": "code",
      "metadata": {
        "id": "YUpXQmwCr9GO"
      },
      "source": [
        "Suicide_df.rename(columns = {' gdp_for_year ($) ':'gdp_for_year ($)'}, inplace = True)"
      ],
      "execution_count": 10,
      "outputs": []
    },
    {
      "cell_type": "code",
      "metadata": {
        "colab": {
          "base_uri": "https://localhost:8080/"
        },
        "id": "lxB_FPpn08FS",
        "outputId": "e0ea89ea-6ed6-4977-8b73-ba73f30287bd"
      },
      "source": [
        "Suicide_df.info()       #checking the information after handling the data"
      ],
      "execution_count": 11,
      "outputs": [
        {
          "output_type": "stream",
          "text": [
            "<class 'pandas.core.frame.DataFrame'>\n",
            "RangeIndex: 27820 entries, 0 to 27819\n",
            "Data columns (total 10 columns):\n",
            " #   Column              Non-Null Count  Dtype  \n",
            "---  ------              --------------  -----  \n",
            " 0   country             27820 non-null  object \n",
            " 1   year                27820 non-null  int64  \n",
            " 2   sex                 27820 non-null  object \n",
            " 3   age                 27820 non-null  object \n",
            " 4   suicides_no         27820 non-null  int64  \n",
            " 5   population          27820 non-null  int64  \n",
            " 6   suicides/100k pop   27820 non-null  float64\n",
            " 7   gdp_for_year ($)    27820 non-null  object \n",
            " 8   gdp_per_capita ($)  27820 non-null  int64  \n",
            " 9   generation          27820 non-null  object \n",
            "dtypes: float64(1), int64(4), object(5)\n",
            "memory usage: 2.1+ MB\n"
          ],
          "name": "stdout"
        }
      ]
    },
    {
      "cell_type": "code",
      "metadata": {
        "id": "oLCBw1nfUkHU"
      },
      "source": [
        "Suicide_population=Suicide_df.groupby(['year'])['population'].sum()"
      ],
      "execution_count": 40,
      "outputs": []
    },
    {
      "cell_type": "code",
      "metadata": {
        "colab": {
          "base_uri": "https://localhost:8080/",
          "height": 290
        },
        "id": "Qt8isK6xFYD-",
        "outputId": "368ad5fd-6b23-4223-ad13-8c0ed2c0d6ed"
      },
      "source": [
        "Suicide_population.plot();"
      ],
      "execution_count": 41,
      "outputs": [
        {
          "output_type": "display_data",
          "data": {
            "image/png": "[encoded data removed]",
            "text/plain": [
              "<Figure size 432x288 with 1 Axes>"
            ]
          },
          "metadata": {
            "tags": [],
            "needs_background": "light"
          }
        }
      ]
    },
    {
      "cell_type": "markdown",
      "metadata": {
        "id": "UwAxYqX2Fama"
      },
      "source": [
        "As we see, there is a dramatic drop in the population after 2014, it seems unlikely and probability is that the data is incorrect. We will drop the data from 2014."
      ]
    },
    {
      "cell_type": "code",
      "metadata": {
        "id": "dnsFJcoPMjhj"
      },
      "source": [
        "Suicide_df_1=Suicide_df[Suicide_df['year']<2014]"
      ],
      "execution_count": 12,
      "outputs": []
    },
    {
      "cell_type": "code",
      "metadata": {
        "colab": {
          "base_uri": "https://localhost:8080/"
        },
        "id": "sR5F-E6n9Gui",
        "outputId": "1404c223-35e7-496c-b31e-11290689240b"
      },
      "source": [
        "Suicide_df_1.groupby(['country'])['population'].sum() "
      ],
      "execution_count": 42,
      "outputs": [
        {
          "output_type": "execute_result",
          "data": {
            "text/plain": [
              "country\n",
              "Albania                   62325467\n",
              "Antigua and Barbuda        1807502\n",
              "Argentina                957009252\n",
              "Armenia                   69349776\n",
              "Aruba                      1259677\n",
              "                           ...    \n",
              "United Arab Emirates      36502275\n",
              "United Kingdom          1617114356\n",
              "United States           7456198955\n",
              "Uruguay                   77700503\n",
              "Uzbekistan               459109025\n",
              "Name: population, Length: 100, dtype: int64"
            ]
          },
          "metadata": {
            "tags": []
          },
          "execution_count": 42
        }
      ]
    },
    {
      "cell_type": "code",
      "metadata": {
        "colab": {
          "base_uri": "https://localhost:8080/",
          "height": 419
        },
        "id": "Bi71xrzjMwD5",
        "outputId": "a209a69d-f296-4c00-a595-0c4a19872002"
      },
      "source": [
        "Suicide_df_1"
      ],
      "execution_count": 13,
      "outputs": [
        {
          "output_type": "execute_result",
          "data": {
            "text/html": [
              "<div>\n",
              "<style scoped>\n",
              "    .dataframe tbody tr th:only-of-type {\n",
              "        vertical-align: middle;\n",
              "    }\n",
              "\n",
              "    .dataframe tbody tr th {\n",
              "        vertical-align: top;\n",
              "    }\n",
              "\n",
              "    .dataframe thead th {\n",
              "        text-align: right;\n",
              "    }\n",
              "</style>\n",
              "<table border=\"1\" class=\"dataframe\">\n",
              "  <thead>\n",
              "    <tr style=\"text-align: right;\">\n",
              "      <th></th>\n",
              "      <th>country</th>\n",
              "      <th>year</th>\n",
              "      <th>sex</th>\n",
              "      <th>age</th>\n",
              "      <th>suicides_no</th>\n",
              "      <th>population</th>\n",
              "      <th>suicides/100k pop</th>\n",
              "      <th>gdp_for_year ($)</th>\n",
              "      <th>gdp_per_capita ($)</th>\n",
              "      <th>generation</th>\n",
              "    </tr>\n",
              "  </thead>\n",
              "  <tbody>\n",
              "    <tr>\n",
              "      <th>0</th>\n",
              "      <td>Albania</td>\n",
              "      <td>1987</td>\n",
              "      <td>male</td>\n",
              "      <td>15-24 years</td>\n",
              "      <td>21</td>\n",
              "      <td>312900</td>\n",
              "      <td>6.71</td>\n",
              "      <td>2,156,624,900</td>\n",
              "      <td>796</td>\n",
              "      <td>Generation X</td>\n",
              "    </tr>\n",
              "    <tr>\n",
              "      <th>1</th>\n",
              "      <td>Albania</td>\n",
              "      <td>1987</td>\n",
              "      <td>male</td>\n",
              "      <td>35-54 years</td>\n",
              "      <td>16</td>\n",
              "      <td>308000</td>\n",
              "      <td>5.19</td>\n",
              "      <td>2,156,624,900</td>\n",
              "      <td>796</td>\n",
              "      <td>Silent</td>\n",
              "    </tr>\n",
              "    <tr>\n",
              "      <th>2</th>\n",
              "      <td>Albania</td>\n",
              "      <td>1987</td>\n",
              "      <td>female</td>\n",
              "      <td>15-24 years</td>\n",
              "      <td>14</td>\n",
              "      <td>289700</td>\n",
              "      <td>4.83</td>\n",
              "      <td>2,156,624,900</td>\n",
              "      <td>796</td>\n",
              "      <td>Generation X</td>\n",
              "    </tr>\n",
              "    <tr>\n",
              "      <th>3</th>\n",
              "      <td>Albania</td>\n",
              "      <td>1987</td>\n",
              "      <td>male</td>\n",
              "      <td>75+ years</td>\n",
              "      <td>1</td>\n",
              "      <td>21800</td>\n",
              "      <td>4.59</td>\n",
              "      <td>2,156,624,900</td>\n",
              "      <td>796</td>\n",
              "      <td>G.I. Generation</td>\n",
              "    </tr>\n",
              "    <tr>\n",
              "      <th>4</th>\n",
              "      <td>Albania</td>\n",
              "      <td>1987</td>\n",
              "      <td>male</td>\n",
              "      <td>25-34 years</td>\n",
              "      <td>9</td>\n",
              "      <td>274300</td>\n",
              "      <td>3.28</td>\n",
              "      <td>2,156,624,900</td>\n",
              "      <td>796</td>\n",
              "      <td>Boomers</td>\n",
              "    </tr>\n",
              "    <tr>\n",
              "      <th>...</th>\n",
              "      <td>...</td>\n",
              "      <td>...</td>\n",
              "      <td>...</td>\n",
              "      <td>...</td>\n",
              "      <td>...</td>\n",
              "      <td>...</td>\n",
              "      <td>...</td>\n",
              "      <td>...</td>\n",
              "      <td>...</td>\n",
              "      <td>...</td>\n",
              "    </tr>\n",
              "    <tr>\n",
              "      <th>27803</th>\n",
              "      <td>Uzbekistan</td>\n",
              "      <td>2013</td>\n",
              "      <td>female</td>\n",
              "      <td>35-54 years</td>\n",
              "      <td>99</td>\n",
              "      <td>3547895</td>\n",
              "      <td>2.79</td>\n",
              "      <td>57,690,453,461</td>\n",
              "      <td>2150</td>\n",
              "      <td>Generation X</td>\n",
              "    </tr>\n",
              "    <tr>\n",
              "      <th>27804</th>\n",
              "      <td>Uzbekistan</td>\n",
              "      <td>2013</td>\n",
              "      <td>female</td>\n",
              "      <td>75+ years</td>\n",
              "      <td>8</td>\n",
              "      <td>345180</td>\n",
              "      <td>2.32</td>\n",
              "      <td>57,690,453,461</td>\n",
              "      <td>2150</td>\n",
              "      <td>Silent</td>\n",
              "    </tr>\n",
              "    <tr>\n",
              "      <th>27805</th>\n",
              "      <td>Uzbekistan</td>\n",
              "      <td>2013</td>\n",
              "      <td>male</td>\n",
              "      <td>5-14 years</td>\n",
              "      <td>61</td>\n",
              "      <td>2720938</td>\n",
              "      <td>2.24</td>\n",
              "      <td>57,690,453,461</td>\n",
              "      <td>2150</td>\n",
              "      <td>Generation Z</td>\n",
              "    </tr>\n",
              "    <tr>\n",
              "      <th>27806</th>\n",
              "      <td>Uzbekistan</td>\n",
              "      <td>2013</td>\n",
              "      <td>female</td>\n",
              "      <td>55-74 years</td>\n",
              "      <td>21</td>\n",
              "      <td>1356298</td>\n",
              "      <td>1.55</td>\n",
              "      <td>57,690,453,461</td>\n",
              "      <td>2150</td>\n",
              "      <td>Boomers</td>\n",
              "    </tr>\n",
              "    <tr>\n",
              "      <th>27807</th>\n",
              "      <td>Uzbekistan</td>\n",
              "      <td>2013</td>\n",
              "      <td>female</td>\n",
              "      <td>5-14 years</td>\n",
              "      <td>31</td>\n",
              "      <td>2595000</td>\n",
              "      <td>1.19</td>\n",
              "      <td>57,690,453,461</td>\n",
              "      <td>2150</td>\n",
              "      <td>Generation Z</td>\n",
              "    </tr>\n",
              "  </tbody>\n",
              "</table>\n",
              "<p>25980 rows × 10 columns</p>\n",
              "</div>"
            ],
            "text/plain": [
              "          country  year  ... gdp_per_capita ($)       generation\n",
              "0         Albania  1987  ...                796     Generation X\n",
              "1         Albania  1987  ...                796           Silent\n",
              "2         Albania  1987  ...                796     Generation X\n",
              "3         Albania  1987  ...                796  G.I. Generation\n",
              "4         Albania  1987  ...                796          Boomers\n",
              "...           ...   ...  ...                ...              ...\n",
              "27803  Uzbekistan  2013  ...               2150     Generation X\n",
              "27804  Uzbekistan  2013  ...               2150           Silent\n",
              "27805  Uzbekistan  2013  ...               2150     Generation Z\n",
              "27806  Uzbekistan  2013  ...               2150          Boomers\n",
              "27807  Uzbekistan  2013  ...               2150     Generation Z\n",
              "\n",
              "[25980 rows x 10 columns]"
            ]
          },
          "metadata": {
            "tags": []
          },
          "execution_count": 13
        }
      ]
    },
    {
      "cell_type": "markdown",
      "metadata": {
        "id": "39OPs53uZqTZ"
      },
      "source": [
        "# **EDA**"
      ]
    },
    {
      "cell_type": "code",
      "metadata": {
        "colab": {
          "base_uri": "https://localhost:8080/",
          "height": 352
        },
        "id": "e_Sg8OYOXKl1",
        "outputId": "39646bcf-53b9-4109-939e-cc23b70ce128"
      },
      "source": [
        "#Box Plot for average number of suicides per age group\n",
        "ax=sns.boxplot(x='age', y='suicides/100k pop', data=Suicide_df_1, notch=True)\n",
        "ax.set_xticklabels(ax.get_xticklabels(),rotation=45)\n",
        "ax.set_title('Box Plot for Mean number of suicides as per Age Group', fontweight='bold', c='navy');"
      ],
      "execution_count": 21,
      "outputs": [
        {
          "output_type": "execute_result",
          "data": {
            "text/plain": [
              "Text(0.5, 1.0, 'Box Plot for Mean number of suicides as per Age Group')"
            ]
          },
          "metadata": {
            "tags": []
          },
          "execution_count": 21
        },
        {
          "output_type": "display_data",
          "data": {
            "image/png": "[encoded data removed]",
            "text/plain": [
              "<Figure size 432x288 with 1 Axes>"
            ]
          },
          "metadata": {
            "tags": [],
            "needs_background": "light"
          }
        }
      ]
    },
    {
      "cell_type": "code",
      "metadata": {
        "colab": {
          "base_uri": "https://localhost:8080/",
          "height": 301
        },
        "id": "gsQt6dA_Z3cL",
        "outputId": "69fbe287-4571-4ac9-8aff-adc98445b310"
      },
      "source": [
        "#Box plot for average number of suicides per sex\n",
        "ax=sns.boxplot(x='sex', y='suicides/100k pop', data=Suicide_df_1, notch=False)\n",
        "ax.set_xticklabels(ax.get_xticklabels(),rotation=45);"
      ],
      "execution_count": 22,
      "outputs": [
        {
          "output_type": "display_data",
          "data": {
            "image/png": "[encoded data removed]",
            "text/plain": [
              "<Figure size 432x288 with 1 Axes>"
            ]
          },
          "metadata": {
            "tags": [],
            "needs_background": "light"
          }
        }
      ]
    },
    {
      "cell_type": "code",
      "metadata": {
        "id": "-2wCB6nO5Ifr"
      },
      "source": [
        "#Visualization for the effect of gdp per capita on number of suicides\n",
        "Suicide_capita=Suicide_df_1.groupby(['gdp_per_capita ($)'])['suicides/100k pop'].mean()"
      ],
      "execution_count": 20,
      "outputs": []
    },
    {
      "cell_type": "code",
      "metadata": {
        "colab": {
          "base_uri": "https://localhost:8080/",
          "height": 313
        },
        "id": "S1FmwipM5IVe",
        "outputId": "71e6d398-2931-410a-a0e9-48515fa9d978"
      },
      "source": [
        "Suicide_capita.plot()\n",
        "plt.ylabel('Suicides/100k population')\n",
        "plt.title('Effect of GDP_per_capita on number of suicides', fontweight='bold', c='navy');"
      ],
      "execution_count": 23,
      "outputs": [
        {
          "output_type": "execute_result",
          "data": {
            "text/plain": [
              "Text(0.5, 1.0, 'Effect of GDP_per_capita on number of suicides')"
            ]
          },
          "metadata": {
            "tags": []
          },
          "execution_count": 23
        },
        {
          "output_type": "display_data",
          "data": {
            "image/png": "[encoded data removed]",
            "text/plain": [
              "<Figure size 432x288 with 1 Axes>"
            ]
          },
          "metadata": {
            "tags": [],
            "needs_background": "light"
          }
        }
      ]
    },
    {
      "cell_type": "code",
      "metadata": {
        "id": "0A-0I1xGiKrO"
      },
      "source": [
        "#Gdp per capita over the years\n",
        "Suicide_gdp=Suicide_df_1.groupby(['year'])['gdp_per_capita ($)'].mean()"
      ],
      "execution_count": 17,
      "outputs": []
    },
    {
      "cell_type": "code",
      "metadata": {
        "colab": {
          "base_uri": "https://localhost:8080/",
          "height": 295
        },
        "id": "a1FwEfoaibNN",
        "outputId": "ba618bdd-8b7b-46e6-db7c-c6b4188eeaaf"
      },
      "source": [
        "Suicide_gdp.plot()\n",
        "plt.title('Plot for GDP per capita over the years', fontweight='bold', c='navy')\n",
        "plt.xlabel('Year')\n",
        "plt.ylabel('GDP per capita');"
      ],
      "execution_count": 44,
      "outputs": [
        {
          "output_type": "display_data",
          "data": {
            "image/png": "[encoded data removed]",
            "text/plain": [
              "<Figure size 432x288 with 1 Axes>"
            ]
          },
          "metadata": {
            "tags": [],
            "needs_background": "light"
          }
        }
      ]
    },
    {
      "cell_type": "code",
      "metadata": {
        "id": "GPtLt2lRN8cl"
      },
      "source": [
        "#Population over the years\n",
        "Suicide_population=Suicide_df_1.groupby(['year'])['population'].sum()"
      ],
      "execution_count": 46,
      "outputs": []
    },
    {
      "cell_type": "code",
      "metadata": {
        "colab": {
          "base_uri": "https://localhost:8080/",
          "height": 295
        },
        "id": "9wUeQQiuU969",
        "outputId": "e83d0df5-a2be-4102-ce67-99dcd9c5229e"
      },
      "source": [
        "Suicide_population.plot();\n",
        "plt.title('Plot for population over the years', fontweight='bold', c='navy')\n",
        "plt.xlabel('Year')\n",
        "plt.ylabel('Population');"
      ],
      "execution_count": 48,
      "outputs": [
        {
          "output_type": "display_data",
          "data": {
            "image/png": "[encoded data removed]",
            "text/plain": [
              "<Figure size 432x288 with 1 Axes>"
            ]
          },
          "metadata": {
            "tags": [],
            "needs_background": "light"
          }
        }
      ]
    },
    {
      "cell_type": "code",
      "metadata": {
        "id": "eVBUA7AnLy5E"
      },
      "source": [
        "#Pivot table for getting the information on range of population per age group\n",
        "pivot_population=Suicide_df_1.pivot_table(columns=['age'], index=['year'], values=['population'], aggfunc=np.sum)"
      ],
      "execution_count": 49,
      "outputs": []
    },
    {
      "cell_type": "code",
      "metadata": {
        "colab": {
          "base_uri": "https://localhost:8080/",
          "height": 1000
        },
        "id": "v2giLp6VSx9b",
        "outputId": "bf56cb43-a791-4811-b591-9bc39442591a"
      },
      "source": [
        "pivot_population"
      ],
      "execution_count": 50,
      "outputs": [
        {
          "output_type": "execute_result",
          "data": {
            "text/html": [
              "<div>\n",
              "<style scoped>\n",
              "    .dataframe tbody tr th:only-of-type {\n",
              "        vertical-align: middle;\n",
              "    }\n",
              "\n",
              "    .dataframe tbody tr th {\n",
              "        vertical-align: top;\n",
              "    }\n",
              "\n",
              "    .dataframe thead tr th {\n",
              "        text-align: left;\n",
              "    }\n",
              "\n",
              "    .dataframe thead tr:last-of-type th {\n",
              "        text-align: right;\n",
              "    }\n",
              "</style>\n",
              "<table border=\"1\" class=\"dataframe\">\n",
              "  <thead>\n",
              "    <tr>\n",
              "      <th></th>\n",
              "      <th colspan=\"6\" halign=\"left\">population</th>\n",
              "    </tr>\n",
              "    <tr>\n",
              "      <th>age</th>\n",
              "      <th>15-24 years</th>\n",
              "      <th>25-34 years</th>\n",
              "      <th>35-54 years</th>\n",
              "      <th>5-14 years</th>\n",
              "      <th>55-74 years</th>\n",
              "      <th>75+ years</th>\n",
              "    </tr>\n",
              "    <tr>\n",
              "      <th>year</th>\n",
              "      <th></th>\n",
              "      <th></th>\n",
              "      <th></th>\n",
              "      <th></th>\n",
              "      <th></th>\n",
              "      <th></th>\n",
              "    </tr>\n",
              "  </thead>\n",
              "  <tbody>\n",
              "    <tr>\n",
              "      <th>1985</th>\n",
              "      <td>196974439</td>\n",
              "      <td>173536624</td>\n",
              "      <td>246046628</td>\n",
              "      <td>199192522</td>\n",
              "      <td>152769432</td>\n",
              "      <td>40080441</td>\n",
              "    </tr>\n",
              "    <tr>\n",
              "      <th>1986</th>\n",
              "      <td>199238573</td>\n",
              "      <td>176214788</td>\n",
              "      <td>253601356</td>\n",
              "      <td>202815438</td>\n",
              "      <td>156574209</td>\n",
              "      <td>41465249</td>\n",
              "    </tr>\n",
              "    <tr>\n",
              "      <th>1987</th>\n",
              "      <td>208588197</td>\n",
              "      <td>188988532</td>\n",
              "      <td>273473250</td>\n",
              "      <td>208313887</td>\n",
              "      <td>169554641</td>\n",
              "      <td>46111219</td>\n",
              "    </tr>\n",
              "    <tr>\n",
              "      <th>1988</th>\n",
              "      <td>196035518</td>\n",
              "      <td>181934957</td>\n",
              "      <td>267264139</td>\n",
              "      <td>195336565</td>\n",
              "      <td>166789014</td>\n",
              "      <td>46734231</td>\n",
              "    </tr>\n",
              "    <tr>\n",
              "      <th>1989</th>\n",
              "      <td>219927016</td>\n",
              "      <td>213566446</td>\n",
              "      <td>316627576</td>\n",
              "      <td>222337932</td>\n",
              "      <td>197860873</td>\n",
              "      <td>55194504</td>\n",
              "    </tr>\n",
              "    <tr>\n",
              "      <th>1990</th>\n",
              "      <td>262224981</td>\n",
              "      <td>255943494</td>\n",
              "      <td>381429036</td>\n",
              "      <td>264959789</td>\n",
              "      <td>235387943</td>\n",
              "      <td>66674857</td>\n",
              "    </tr>\n",
              "    <tr>\n",
              "      <th>1991</th>\n",
              "      <td>263683586</td>\n",
              "      <td>258085415</td>\n",
              "      <td>391411658</td>\n",
              "      <td>267650607</td>\n",
              "      <td>241269189</td>\n",
              "      <td>67887929</td>\n",
              "    </tr>\n",
              "    <tr>\n",
              "      <th>1992</th>\n",
              "      <td>278729125</td>\n",
              "      <td>270397353</td>\n",
              "      <td>412814790</td>\n",
              "      <td>286065805</td>\n",
              "      <td>251982954</td>\n",
              "      <td>69549420</td>\n",
              "    </tr>\n",
              "    <tr>\n",
              "      <th>1993</th>\n",
              "      <td>267069051</td>\n",
              "      <td>260776673</td>\n",
              "      <td>407012350</td>\n",
              "      <td>275649767</td>\n",
              "      <td>251229172</td>\n",
              "      <td>68679641</td>\n",
              "    </tr>\n",
              "    <tr>\n",
              "      <th>1994</th>\n",
              "      <td>267468800</td>\n",
              "      <td>263220968</td>\n",
              "      <td>417589803</td>\n",
              "      <td>272020060</td>\n",
              "      <td>258671110</td>\n",
              "      <td>69778631</td>\n",
              "    </tr>\n",
              "    <tr>\n",
              "      <th>1995</th>\n",
              "      <td>272391062</td>\n",
              "      <td>268186691</td>\n",
              "      <td>434002463</td>\n",
              "      <td>276545519</td>\n",
              "      <td>267815735</td>\n",
              "      <td>72617633</td>\n",
              "    </tr>\n",
              "    <tr>\n",
              "      <th>1996</th>\n",
              "      <td>285894005</td>\n",
              "      <td>278429626</td>\n",
              "      <td>454968532</td>\n",
              "      <td>290936431</td>\n",
              "      <td>276361725</td>\n",
              "      <td>75677343</td>\n",
              "    </tr>\n",
              "    <tr>\n",
              "      <th>1997</th>\n",
              "      <td>294538353</td>\n",
              "      <td>285003000</td>\n",
              "      <td>466646342</td>\n",
              "      <td>302524185</td>\n",
              "      <td>277090379</td>\n",
              "      <td>77189260</td>\n",
              "    </tr>\n",
              "    <tr>\n",
              "      <th>1998</th>\n",
              "      <td>296626620</td>\n",
              "      <td>286231329</td>\n",
              "      <td>478662917</td>\n",
              "      <td>302835669</td>\n",
              "      <td>281202250</td>\n",
              "      <td>79622566</td>\n",
              "    </tr>\n",
              "    <tr>\n",
              "      <th>1999</th>\n",
              "      <td>304307108</td>\n",
              "      <td>291530934</td>\n",
              "      <td>500176591</td>\n",
              "      <td>307095027</td>\n",
              "      <td>289611423</td>\n",
              "      <td>83642072</td>\n",
              "    </tr>\n",
              "    <tr>\n",
              "      <th>2000</th>\n",
              "      <td>306833668</td>\n",
              "      <td>294464558</td>\n",
              "      <td>512406074</td>\n",
              "      <td>307228422</td>\n",
              "      <td>291933570</td>\n",
              "      <td>86361616</td>\n",
              "    </tr>\n",
              "    <tr>\n",
              "      <th>2001</th>\n",
              "      <td>297966000</td>\n",
              "      <td>284481809</td>\n",
              "      <td>503304611</td>\n",
              "      <td>294718908</td>\n",
              "      <td>287082265</td>\n",
              "      <td>88011896</td>\n",
              "    </tr>\n",
              "    <tr>\n",
              "      <th>2002</th>\n",
              "      <td>309304957</td>\n",
              "      <td>296207160</td>\n",
              "      <td>524892282</td>\n",
              "      <td>301180148</td>\n",
              "      <td>298245176</td>\n",
              "      <td>92323092</td>\n",
              "    </tr>\n",
              "    <tr>\n",
              "      <th>2003</th>\n",
              "      <td>311965575</td>\n",
              "      <td>296827661</td>\n",
              "      <td>531132194</td>\n",
              "      <td>299034887</td>\n",
              "      <td>304473586</td>\n",
              "      <td>95024117</td>\n",
              "    </tr>\n",
              "    <tr>\n",
              "      <th>2004</th>\n",
              "      <td>290415721</td>\n",
              "      <td>279976620</td>\n",
              "      <td>509520667</td>\n",
              "      <td>270982469</td>\n",
              "      <td>298895614</td>\n",
              "      <td>95455522</td>\n",
              "    </tr>\n",
              "    <tr>\n",
              "      <th>2005</th>\n",
              "      <td>286690446</td>\n",
              "      <td>278296962</td>\n",
              "      <td>507445700</td>\n",
              "      <td>264397401</td>\n",
              "      <td>301001533</td>\n",
              "      <td>97077603</td>\n",
              "    </tr>\n",
              "    <tr>\n",
              "      <th>2006</th>\n",
              "      <td>305127668</td>\n",
              "      <td>295325866</td>\n",
              "      <td>536511821</td>\n",
              "      <td>283329957</td>\n",
              "      <td>318224726</td>\n",
              "      <td>102388799</td>\n",
              "    </tr>\n",
              "    <tr>\n",
              "      <th>2007</th>\n",
              "      <td>305436926</td>\n",
              "      <td>298222521</td>\n",
              "      <td>542880362</td>\n",
              "      <td>281095405</td>\n",
              "      <td>326135725</td>\n",
              "      <td>105793414</td>\n",
              "    </tr>\n",
              "    <tr>\n",
              "      <th>2008</th>\n",
              "      <td>302200881</td>\n",
              "      <td>297532003</td>\n",
              "      <td>542789284</td>\n",
              "      <td>278903896</td>\n",
              "      <td>332062421</td>\n",
              "      <td>107132366</td>\n",
              "    </tr>\n",
              "    <tr>\n",
              "      <th>2009</th>\n",
              "      <td>321540733</td>\n",
              "      <td>318594904</td>\n",
              "      <td>575243831</td>\n",
              "      <td>297254525</td>\n",
              "      <td>351397333</td>\n",
              "      <td>112197040</td>\n",
              "    </tr>\n",
              "    <tr>\n",
              "      <th>2010</th>\n",
              "      <td>321498365</td>\n",
              "      <td>321277547</td>\n",
              "      <td>581133742</td>\n",
              "      <td>297317505</td>\n",
              "      <td>361189135</td>\n",
              "      <td>114881035</td>\n",
              "    </tr>\n",
              "    <tr>\n",
              "      <th>2011</th>\n",
              "      <td>317262371</td>\n",
              "      <td>318111842</td>\n",
              "      <td>578742563</td>\n",
              "      <td>294238144</td>\n",
              "      <td>367532048</td>\n",
              "      <td>117475364</td>\n",
              "    </tr>\n",
              "    <tr>\n",
              "      <th>2012</th>\n",
              "      <td>295020664</td>\n",
              "      <td>303401688</td>\n",
              "      <td>558344819</td>\n",
              "      <td>271680873</td>\n",
              "      <td>365281729</td>\n",
              "      <td>119082315</td>\n",
              "    </tr>\n",
              "    <tr>\n",
              "      <th>2013</th>\n",
              "      <td>288206852</td>\n",
              "      <td>298709101</td>\n",
              "      <td>550420191</td>\n",
              "      <td>268175176</td>\n",
              "      <td>364931201</td>\n",
              "      <td>119719189</td>\n",
              "    </tr>\n",
              "  </tbody>\n",
              "</table>\n",
              "</div>"
            ],
            "text/plain": [
              "      population                                                          \n",
              "age  15-24 years 25-34 years 35-54 years 5-14 years 55-74 years  75+ years\n",
              "year                                                                      \n",
              "1985   196974439   173536624   246046628  199192522   152769432   40080441\n",
              "1986   199238573   176214788   253601356  202815438   156574209   41465249\n",
              "1987   208588197   188988532   273473250  208313887   169554641   46111219\n",
              "1988   196035518   181934957   267264139  195336565   166789014   46734231\n",
              "1989   219927016   213566446   316627576  222337932   197860873   55194504\n",
              "1990   262224981   255943494   381429036  264959789   235387943   66674857\n",
              "1991   263683586   258085415   391411658  267650607   241269189   67887929\n",
              "1992   278729125   270397353   412814790  286065805   251982954   69549420\n",
              "1993   267069051   260776673   407012350  275649767   251229172   68679641\n",
              "1994   267468800   263220968   417589803  272020060   258671110   69778631\n",
              "1995   272391062   268186691   434002463  276545519   267815735   72617633\n",
              "1996   285894005   278429626   454968532  290936431   276361725   75677343\n",
              "1997   294538353   285003000   466646342  302524185   277090379   77189260\n",
              "1998   296626620   286231329   478662917  302835669   281202250   79622566\n",
              "1999   304307108   291530934   500176591  307095027   289611423   83642072\n",
              "2000   306833668   294464558   512406074  307228422   291933570   86361616\n",
              "2001   297966000   284481809   503304611  294718908   287082265   88011896\n",
              "2002   309304957   296207160   524892282  301180148   298245176   92323092\n",
              "2003   311965575   296827661   531132194  299034887   304473586   95024117\n",
              "2004   290415721   279976620   509520667  270982469   298895614   95455522\n",
              "2005   286690446   278296962   507445700  264397401   301001533   97077603\n",
              "2006   305127668   295325866   536511821  283329957   318224726  102388799\n",
              "2007   305436926   298222521   542880362  281095405   326135725  105793414\n",
              "2008   302200881   297532003   542789284  278903896   332062421  107132366\n",
              "2009   321540733   318594904   575243831  297254525   351397333  112197040\n",
              "2010   321498365   321277547   581133742  297317505   361189135  114881035\n",
              "2011   317262371   318111842   578742563  294238144   367532048  117475364\n",
              "2012   295020664   303401688   558344819  271680873   365281729  119082315\n",
              "2013   288206852   298709101   550420191  268175176   364931201  119719189"
            ]
          },
          "metadata": {
            "tags": []
          },
          "execution_count": 50
        }
      ]
    },
    {
      "cell_type": "code",
      "metadata": {
        "colab": {
          "base_uri": "https://localhost:8080/",
          "height": 290
        },
        "id": "xReaIeqvMBG4",
        "outputId": "b97d113d-a519-48ac-fc6e-49ae5909c8b4"
      },
      "source": [
        "pivot_population.plot();"
      ],
      "execution_count": 64,
      "outputs": [
        {
          "output_type": "display_data",
          "data": {
            "image/png": "[encoded data removed]",
            "text/plain": [
              "<Figure size 432x288 with 1 Axes>"
            ]
          },
          "metadata": {
            "tags": [],
            "needs_background": "light"
          }
        }
      ]
    },
    {
      "cell_type": "code",
      "metadata": {
        "colab": {
          "base_uri": "https://localhost:8080/",
          "height": 295
        },
        "id": "GITOzOFQZp6Y",
        "outputId": "3c4b167b-b533-494d-97f5-2d4be72ccb51"
      },
      "source": [
        "plt.plot(pivot_population)\n",
        "plt.title('Plot for population per through the year', fontweight='bold', c='navy')\n",
        "plt.xlabel('Year')\n",
        "plt.ylabel('Population');"
      ],
      "execution_count": 27,
      "outputs": [
        {
          "output_type": "display_data",
          "data": {
            "image/png": "[encoded data removed]",
            "text/plain": [
              "<Figure size 432x288 with 1 Axes>"
            ]
          },
          "metadata": {
            "tags": [],
            "needs_background": "light"
          }
        }
      ]
    },
    {
      "cell_type": "code",
      "metadata": {
        "id": "9kcz6rJwJWQy"
      },
      "source": [
        "#Pivot table for getting the information on range of Suicides/100k population per age group\n",
        "pivot_age = Suicide_df_1.pivot_table(columns=['age'], index=['year'], values=['suicides/100k pop'], aggfunc=np.sum)"
      ],
      "execution_count": 18,
      "outputs": []
    },
    {
      "cell_type": "code",
      "metadata": {
        "colab": {
          "base_uri": "https://localhost:8080/",
          "height": 1000
        },
        "id": "A2M_GhiFJuIP",
        "outputId": "c7d7747b-8d38-47cc-a24c-155db8796a8c"
      },
      "source": [
        "pivot_age"
      ],
      "execution_count": 28,
      "outputs": [
        {
          "output_type": "execute_result",
          "data": {
            "text/html": [
              "<div>\n",
              "<style scoped>\n",
              "    .dataframe tbody tr th:only-of-type {\n",
              "        vertical-align: middle;\n",
              "    }\n",
              "\n",
              "    .dataframe tbody tr th {\n",
              "        vertical-align: top;\n",
              "    }\n",
              "\n",
              "    .dataframe thead tr th {\n",
              "        text-align: left;\n",
              "    }\n",
              "\n",
              "    .dataframe thead tr:last-of-type th {\n",
              "        text-align: right;\n",
              "    }\n",
              "</style>\n",
              "<table border=\"1\" class=\"dataframe\">\n",
              "  <thead>\n",
              "    <tr>\n",
              "      <th></th>\n",
              "      <th colspan=\"6\" halign=\"left\">suicides/100k pop</th>\n",
              "    </tr>\n",
              "    <tr>\n",
              "      <th>age</th>\n",
              "      <th>15-24 years</th>\n",
              "      <th>25-34 years</th>\n",
              "      <th>35-54 years</th>\n",
              "      <th>5-14 years</th>\n",
              "      <th>55-74 years</th>\n",
              "      <th>75+ years</th>\n",
              "    </tr>\n",
              "    <tr>\n",
              "      <th>year</th>\n",
              "      <th></th>\n",
              "      <th></th>\n",
              "      <th></th>\n",
              "      <th></th>\n",
              "      <th></th>\n",
              "      <th></th>\n",
              "    </tr>\n",
              "  </thead>\n",
              "  <tbody>\n",
              "    <tr>\n",
              "      <th>1985</th>\n",
              "      <td>809.25</td>\n",
              "      <td>960.84</td>\n",
              "      <td>1190.69</td>\n",
              "      <td>51.56</td>\n",
              "      <td>1449.06</td>\n",
              "      <td>2350.49</td>\n",
              "    </tr>\n",
              "    <tr>\n",
              "      <th>1986</th>\n",
              "      <td>782.60</td>\n",
              "      <td>1017.01</td>\n",
              "      <td>1122.76</td>\n",
              "      <td>40.46</td>\n",
              "      <td>1340.64</td>\n",
              "      <td>2276.37</td>\n",
              "    </tr>\n",
              "    <tr>\n",
              "      <th>1987</th>\n",
              "      <td>808.69</td>\n",
              "      <td>1183.72</td>\n",
              "      <td>1337.43</td>\n",
              "      <td>52.36</td>\n",
              "      <td>1614.15</td>\n",
              "      <td>2549.10</td>\n",
              "    </tr>\n",
              "    <tr>\n",
              "      <th>1988</th>\n",
              "      <td>857.59</td>\n",
              "      <td>1216.19</td>\n",
              "      <td>1291.25</td>\n",
              "      <td>46.79</td>\n",
              "      <td>1552.62</td>\n",
              "      <td>2508.69</td>\n",
              "    </tr>\n",
              "    <tr>\n",
              "      <th>1989</th>\n",
              "      <td>952.69</td>\n",
              "      <td>1266.53</td>\n",
              "      <td>1412.79</td>\n",
              "      <td>57.56</td>\n",
              "      <td>1664.04</td>\n",
              "      <td>2682.93</td>\n",
              "    </tr>\n",
              "    <tr>\n",
              "      <th>1990</th>\n",
              "      <td>1166.74</td>\n",
              "      <td>1581.93</td>\n",
              "      <td>1788.83</td>\n",
              "      <td>67.08</td>\n",
              "      <td>2004.55</td>\n",
              "      <td>3269.62</td>\n",
              "    </tr>\n",
              "    <tr>\n",
              "      <th>1991</th>\n",
              "      <td>1267.92</td>\n",
              "      <td>1598.91</td>\n",
              "      <td>1862.26</td>\n",
              "      <td>72.74</td>\n",
              "      <td>2103.82</td>\n",
              "      <td>3415.41</td>\n",
              "    </tr>\n",
              "    <tr>\n",
              "      <th>1992</th>\n",
              "      <td>1194.25</td>\n",
              "      <td>1644.40</td>\n",
              "      <td>2023.98</td>\n",
              "      <td>75.77</td>\n",
              "      <td>2222.71</td>\n",
              "      <td>3367.77</td>\n",
              "    </tr>\n",
              "    <tr>\n",
              "      <th>1993</th>\n",
              "      <td>1213.03</td>\n",
              "      <td>1715.82</td>\n",
              "      <td>2104.55</td>\n",
              "      <td>100.93</td>\n",
              "      <td>2244.18</td>\n",
              "      <td>3411.78</td>\n",
              "    </tr>\n",
              "    <tr>\n",
              "      <th>1994</th>\n",
              "      <td>1290.33</td>\n",
              "      <td>1700.02</td>\n",
              "      <td>2190.51</td>\n",
              "      <td>85.00</td>\n",
              "      <td>2345.88</td>\n",
              "      <td>3872.05</td>\n",
              "    </tr>\n",
              "    <tr>\n",
              "      <th>1995</th>\n",
              "      <td>1618.73</td>\n",
              "      <td>2294.15</td>\n",
              "      <td>2896.41</td>\n",
              "      <td>94.11</td>\n",
              "      <td>3047.45</td>\n",
              "      <td>4709.41</td>\n",
              "    </tr>\n",
              "    <tr>\n",
              "      <th>1996</th>\n",
              "      <td>1620.38</td>\n",
              "      <td>2225.89</td>\n",
              "      <td>2831.15</td>\n",
              "      <td>113.25</td>\n",
              "      <td>3025.02</td>\n",
              "      <td>4326.52</td>\n",
              "    </tr>\n",
              "    <tr>\n",
              "      <th>1997</th>\n",
              "      <td>1656.99</td>\n",
              "      <td>2189.66</td>\n",
              "      <td>2718.52</td>\n",
              "      <td>98.66</td>\n",
              "      <td>2896.37</td>\n",
              "      <td>4257.63</td>\n",
              "    </tr>\n",
              "    <tr>\n",
              "      <th>1998</th>\n",
              "      <td>1614.62</td>\n",
              "      <td>2241.75</td>\n",
              "      <td>2824.65</td>\n",
              "      <td>115.29</td>\n",
              "      <td>3017.51</td>\n",
              "      <td>4336.90</td>\n",
              "    </tr>\n",
              "    <tr>\n",
              "      <th>1999</th>\n",
              "      <td>1748.36</td>\n",
              "      <td>2386.64</td>\n",
              "      <td>2890.01</td>\n",
              "      <td>109.02</td>\n",
              "      <td>3052.64</td>\n",
              "      <td>4287.24</td>\n",
              "    </tr>\n",
              "    <tr>\n",
              "      <th>2000</th>\n",
              "      <td>1624.15</td>\n",
              "      <td>2366.19</td>\n",
              "      <td>2828.26</td>\n",
              "      <td>91.58</td>\n",
              "      <td>3015.38</td>\n",
              "      <td>4461.89</td>\n",
              "    </tr>\n",
              "    <tr>\n",
              "      <th>2001</th>\n",
              "      <td>1618.72</td>\n",
              "      <td>2325.57</td>\n",
              "      <td>2892.34</td>\n",
              "      <td>105.19</td>\n",
              "      <td>3060.17</td>\n",
              "      <td>4274.22</td>\n",
              "    </tr>\n",
              "    <tr>\n",
              "      <th>2002</th>\n",
              "      <td>1640.38</td>\n",
              "      <td>2283.04</td>\n",
              "      <td>2791.34</td>\n",
              "      <td>110.28</td>\n",
              "      <td>3013.61</td>\n",
              "      <td>4389.07</td>\n",
              "    </tr>\n",
              "    <tr>\n",
              "      <th>2003</th>\n",
              "      <td>1551.87</td>\n",
              "      <td>2144.21</td>\n",
              "      <td>2765.27</td>\n",
              "      <td>105.72</td>\n",
              "      <td>2990.77</td>\n",
              "      <td>4069.74</td>\n",
              "    </tr>\n",
              "    <tr>\n",
              "      <th>2004</th>\n",
              "      <td>1461.05</td>\n",
              "      <td>2000.72</td>\n",
              "      <td>2522.20</td>\n",
              "      <td>102.64</td>\n",
              "      <td>2702.56</td>\n",
              "      <td>3792.63</td>\n",
              "    </tr>\n",
              "    <tr>\n",
              "      <th>2005</th>\n",
              "      <td>1388.19</td>\n",
              "      <td>1970.14</td>\n",
              "      <td>2410.15</td>\n",
              "      <td>118.89</td>\n",
              "      <td>2657.75</td>\n",
              "      <td>3619.87</td>\n",
              "    </tr>\n",
              "    <tr>\n",
              "      <th>2006</th>\n",
              "      <td>1450.09</td>\n",
              "      <td>1864.05</td>\n",
              "      <td>2390.74</td>\n",
              "      <td>99.33</td>\n",
              "      <td>2488.25</td>\n",
              "      <td>3873.55</td>\n",
              "    </tr>\n",
              "    <tr>\n",
              "      <th>2007</th>\n",
              "      <td>1419.76</td>\n",
              "      <td>2058.83</td>\n",
              "      <td>2364.54</td>\n",
              "      <td>111.15</td>\n",
              "      <td>2486.65</td>\n",
              "      <td>3969.22</td>\n",
              "    </tr>\n",
              "    <tr>\n",
              "      <th>2008</th>\n",
              "      <td>1426.23</td>\n",
              "      <td>1914.94</td>\n",
              "      <td>2452.07</td>\n",
              "      <td>105.20</td>\n",
              "      <td>2551.85</td>\n",
              "      <td>3695.55</td>\n",
              "    </tr>\n",
              "    <tr>\n",
              "      <th>2009</th>\n",
              "      <td>1429.18</td>\n",
              "      <td>1957.17</td>\n",
              "      <td>2506.18</td>\n",
              "      <td>106.44</td>\n",
              "      <td>2597.12</td>\n",
              "      <td>3579.95</td>\n",
              "    </tr>\n",
              "    <tr>\n",
              "      <th>2010</th>\n",
              "      <td>1403.38</td>\n",
              "      <td>1906.23</td>\n",
              "      <td>2398.29</td>\n",
              "      <td>114.20</td>\n",
              "      <td>2436.90</td>\n",
              "      <td>3584.99</td>\n",
              "    </tr>\n",
              "    <tr>\n",
              "      <th>2011</th>\n",
              "      <td>1447.76</td>\n",
              "      <td>1827.21</td>\n",
              "      <td>2286.93</td>\n",
              "      <td>109.68</td>\n",
              "      <td>2367.78</td>\n",
              "      <td>3328.48</td>\n",
              "    </tr>\n",
              "    <tr>\n",
              "      <th>2012</th>\n",
              "      <td>1363.60</td>\n",
              "      <td>1737.66</td>\n",
              "      <td>2214.23</td>\n",
              "      <td>104.12</td>\n",
              "      <td>2325.46</td>\n",
              "      <td>3356.84</td>\n",
              "    </tr>\n",
              "    <tr>\n",
              "      <th>2013</th>\n",
              "      <td>1309.45</td>\n",
              "      <td>1728.82</td>\n",
              "      <td>2119.91</td>\n",
              "      <td>105.57</td>\n",
              "      <td>2297.64</td>\n",
              "      <td>3102.25</td>\n",
              "    </tr>\n",
              "  </tbody>\n",
              "</table>\n",
              "</div>"
            ],
            "text/plain": [
              "     suicides/100k pop                                                         \n",
              "age        15-24 years 25-34 years 35-54 years 5-14 years 55-74 years 75+ years\n",
              "year                                                                           \n",
              "1985            809.25      960.84     1190.69      51.56     1449.06   2350.49\n",
              "1986            782.60     1017.01     1122.76      40.46     1340.64   2276.37\n",
              "1987            808.69     1183.72     1337.43      52.36     1614.15   2549.10\n",
              "1988            857.59     1216.19     1291.25      46.79     1552.62   2508.69\n",
              "1989            952.69     1266.53     1412.79      57.56     1664.04   2682.93\n",
              "1990           1166.74     1581.93     1788.83      67.08     2004.55   3269.62\n",
              "1991           1267.92     1598.91     1862.26      72.74     2103.82   3415.41\n",
              "1992           1194.25     1644.40     2023.98      75.77     2222.71   3367.77\n",
              "1993           1213.03     1715.82     2104.55     100.93     2244.18   3411.78\n",
              "1994           1290.33     1700.02     2190.51      85.00     2345.88   3872.05\n",
              "1995           1618.73     2294.15     2896.41      94.11     3047.45   4709.41\n",
              "1996           1620.38     2225.89     2831.15     113.25     3025.02   4326.52\n",
              "1997           1656.99     2189.66     2718.52      98.66     2896.37   4257.63\n",
              "1998           1614.62     2241.75     2824.65     115.29     3017.51   4336.90\n",
              "1999           1748.36     2386.64     2890.01     109.02     3052.64   4287.24\n",
              "2000           1624.15     2366.19     2828.26      91.58     3015.38   4461.89\n",
              "2001           1618.72     2325.57     2892.34     105.19     3060.17   4274.22\n",
              "2002           1640.38     2283.04     2791.34     110.28     3013.61   4389.07\n",
              "2003           1551.87     2144.21     2765.27     105.72     2990.77   4069.74\n",
              "2004           1461.05     2000.72     2522.20     102.64     2702.56   3792.63\n",
              "2005           1388.19     1970.14     2410.15     118.89     2657.75   3619.87\n",
              "2006           1450.09     1864.05     2390.74      99.33     2488.25   3873.55\n",
              "2007           1419.76     2058.83     2364.54     111.15     2486.65   3969.22\n",
              "2008           1426.23     1914.94     2452.07     105.20     2551.85   3695.55\n",
              "2009           1429.18     1957.17     2506.18     106.44     2597.12   3579.95\n",
              "2010           1403.38     1906.23     2398.29     114.20     2436.90   3584.99\n",
              "2011           1447.76     1827.21     2286.93     109.68     2367.78   3328.48\n",
              "2012           1363.60     1737.66     2214.23     104.12     2325.46   3356.84\n",
              "2013           1309.45     1728.82     2119.91     105.57     2297.64   3102.25"
            ]
          },
          "metadata": {
            "tags": []
          },
          "execution_count": 28
        }
      ]
    },
    {
      "cell_type": "code",
      "metadata": {
        "colab": {
          "base_uri": "https://localhost:8080/",
          "height": 296
        },
        "id": "FonbamNHKD91",
        "outputId": "41cf3213-ad94-4ef6-b2f3-d6b8efc51793"
      },
      "source": [
        "pivot_age.plot()"
      ],
      "execution_count": 29,
      "outputs": [
        {
          "output_type": "execute_result",
          "data": {
            "text/plain": [
              "<matplotlib.axes._subplots.AxesSubplot at 0x7f3c98292d50>"
            ]
          },
          "metadata": {
            "tags": []
          },
          "execution_count": 29
        },
        {
          "output_type": "display_data",
          "data": {
            "image/png": "[encoded data removed]",
            "text/plain": [
              "<Figure size 432x288 with 1 Axes>"
            ]
          },
          "metadata": {
            "tags": [],
            "needs_background": "light"
          }
        }
      ]
    },
    {
      "cell_type": "code",
      "metadata": {
        "colab": {
          "base_uri": "https://localhost:8080/",
          "height": 295
        },
        "id": "fuB_TPyMJybO",
        "outputId": "f09ff285-1b8f-4165-e7da-fd5a3bd44147"
      },
      "source": [
        "plt.plot(pivot_age)\n",
        "plt.title('Plot for number of sucides per 100k population per age group', fontweight='bold', c='navy')\n",
        "plt.xlabel('Year')\n",
        "plt.ylabel('No. of suicides per 100k population');"
      ],
      "execution_count": 30,
      "outputs": [
        {
          "output_type": "display_data",
          "data": {
            "image/png": "[encoded data removed]",
            "text/plain": [
              "<Figure size 432x288 with 1 Axes>"
            ]
          },
          "metadata": {
            "tags": [],
            "needs_background": "light"
          }
        }
      ]
    },
    {
      "cell_type": "markdown",
      "metadata": {
        "id": "G0oiUFLWKTx9"
      },
      "source": [
        "Number of suicides has been surprisingly decreasing. And as expected, there are no suicides for the ages 5-14."
      ]
    },
    {
      "cell_type": "code",
      "metadata": {
        "id": "r5z3UMdLFdNk"
      },
      "source": [
        "#Population distribution as per sex\n",
        "Suicide_sex_pop=Suicide_df_1.groupby(['sex'])['population'].sum()"
      ],
      "execution_count": 33,
      "outputs": []
    },
    {
      "cell_type": "code",
      "metadata": {
        "colab": {
          "base_uri": "https://localhost:8080/",
          "height": 264
        },
        "id": "Fh87XzOXFrQf",
        "outputId": "96c68d4f-04e0-46dd-a690-6196f44f4126"
      },
      "source": [
        "Pie_Sex_pop=Suicide_sex_pop.values\n",
        "Pie_Sex_label_pop= Suicide_sex_pop.index\n",
        "temp=Pie_Sex_pop.sum()\n",
        "\n",
        "for ele in Pie_Sex_pop:\n",
        "   ele=ele/temp*100\n",
        "\n",
        "plt.title('Percent distribution of population', c='navy', fontweight='bold')\n",
        "plt.pie(Pie_Sex_pop, autopct='%1.1f%%', labels= Pie_Sex_label_pop);"
      ],
      "execution_count": 34,
      "outputs": [
        {
          "output_type": "display_data",
          "data": {
            "image/png": "[encoded data removed]",
            "text/plain": [
              "<Figure size 432x288 with 1 Axes>"
            ]
          },
          "metadata": {
            "tags": []
          }
        }
      ]
    },
    {
      "cell_type": "code",
      "metadata": {
        "colab": {
          "base_uri": "https://localhost:8080/"
        },
        "id": "kC92Hlck-J5M",
        "outputId": "e99f53da-56ce-4486-b869-f346ced2ebd3"
      },
      "source": [
        "#Distribution of Suicides as per Sex\n",
        "Suicide_sex=Suicide_df.groupby(['sex'])['suicides_no'].sum()\n",
        "Suicide_sex"
      ],
      "execution_count": 36,
      "outputs": [
        {
          "output_type": "execute_result",
          "data": {
            "text/plain": [
              "sex\n",
              "female    1559510\n",
              "male      5188910\n",
              "Name: suicides_no, dtype: int64"
            ]
          },
          "metadata": {
            "tags": []
          },
          "execution_count": 36
        }
      ]
    },
    {
      "cell_type": "code",
      "metadata": {
        "colab": {
          "base_uri": "https://localhost:8080/",
          "height": 264
        },
        "id": "sPZ7V-Qo-c7z",
        "outputId": "0991d4f6-ab2d-49ec-f77a-661f78b71d7e"
      },
      "source": [
        "Pie_Sex=Suicide_sex.values\n",
        "Pie_Sex_label= Suicide_sex.index\n",
        "temp=Pie_Sex.sum()\n",
        "\n",
        "for ele in Pie_Sex:\n",
        "   ele=ele/temp*100\n",
        "\n",
        "plt.title('Percent distribution as per sex', c='navy', fontweight='bold')\n",
        "plt.pie(Pie_Sex, autopct='%1.1f%%', labels= Pie_Sex_label);"
      ],
      "execution_count": 37,
      "outputs": [
        {
          "output_type": "display_data",
          "data": {
            "image/png": "[encoded data removed]",
            "text/plain": [
              "<Figure size 432x288 with 1 Axes>"
            ]
          },
          "metadata": {
            "tags": []
          }
        }
      ]
    },
    {
      "cell_type": "markdown",
      "metadata": {
        "id": "Zlh_rBdn_J5d"
      },
      "source": [
        "It is usually said that there is higher tendancy of suicide in males than in females. After analysing this data, we can see that the number of male suicides is almost more than three times that of females."
      ]
    },
    {
      "cell_type": "code",
      "metadata": {
        "id": "kNPKDQH_QVmh",
        "colab": {
          "base_uri": "https://localhost:8080/"
        },
        "outputId": "021ba6a0-7250-4371-b332-71112c66ecb2"
      },
      "source": [
        "#Remove ',' from gdp_for_year \n",
        "def nochar (s):\n",
        " \n",
        "    s_counts=s.count(',')\n",
        "    s=list(s)\n",
        "\n",
        "    while s_counts:\n",
        "       s.remove(',')\n",
        "       s_counts-=1\n",
        "\n",
        "    s = '' . join(s)\n",
        "    s=int(s)\n",
        "    return s\n",
        "\n",
        "Suicide_df_1['gdp_for_year ($)']=Suicide_df_1['gdp_for_year ($)'].apply(nochar)"
      ],
      "execution_count": 51,
      "outputs": [
        {
          "output_type": "stream",
          "text": [
            "/usr/local/lib/python3.7/dist-packages/ipykernel_launcher.py:15: SettingWithCopyWarning: \n",
            "A value is trying to be set on a copy of a slice from a DataFrame.\n",
            "Try using .loc[row_indexer,col_indexer] = value instead\n",
            "\n",
            "See the caveats in the documentation: https://pandas.pydata.org/pandas-docs/stable/user_guide/indexing.html#returning-a-view-versus-a-copy\n",
            "  from ipykernel import kernelapp as app\n"
          ],
          "name": "stderr"
        }
      ]
    },
    {
      "cell_type": "code",
      "metadata": {
        "colab": {
          "base_uri": "https://localhost:8080/",
          "height": 204
        },
        "id": "j-AZg1VX1DQz",
        "outputId": "71c56e6b-dccb-4ffe-eee5-4b9bd785d608"
      },
      "source": [
        "Suicide_df_1.head()"
      ],
      "execution_count": 52,
      "outputs": [
        {
          "output_type": "execute_result",
          "data": {
            "text/html": [
              "<div>\n",
              "<style scoped>\n",
              "    .dataframe tbody tr th:only-of-type {\n",
              "        vertical-align: middle;\n",
              "    }\n",
              "\n",
              "    .dataframe tbody tr th {\n",
              "        vertical-align: top;\n",
              "    }\n",
              "\n",
              "    .dataframe thead th {\n",
              "        text-align: right;\n",
              "    }\n",
              "</style>\n",
              "<table border=\"1\" class=\"dataframe\">\n",
              "  <thead>\n",
              "    <tr style=\"text-align: right;\">\n",
              "      <th></th>\n",
              "      <th>country</th>\n",
              "      <th>year</th>\n",
              "      <th>sex</th>\n",
              "      <th>age</th>\n",
              "      <th>suicides_no</th>\n",
              "      <th>population</th>\n",
              "      <th>suicides/100k pop</th>\n",
              "      <th>gdp_for_year ($)</th>\n",
              "      <th>gdp_per_capita ($)</th>\n",
              "      <th>generation</th>\n",
              "    </tr>\n",
              "  </thead>\n",
              "  <tbody>\n",
              "    <tr>\n",
              "      <th>0</th>\n",
              "      <td>Albania</td>\n",
              "      <td>1987</td>\n",
              "      <td>male</td>\n",
              "      <td>15-24 years</td>\n",
              "      <td>21</td>\n",
              "      <td>312900</td>\n",
              "      <td>6.71</td>\n",
              "      <td>2156624900</td>\n",
              "      <td>796</td>\n",
              "      <td>Generation X</td>\n",
              "    </tr>\n",
              "    <tr>\n",
              "      <th>1</th>\n",
              "      <td>Albania</td>\n",
              "      <td>1987</td>\n",
              "      <td>male</td>\n",
              "      <td>35-54 years</td>\n",
              "      <td>16</td>\n",
              "      <td>308000</td>\n",
              "      <td>5.19</td>\n",
              "      <td>2156624900</td>\n",
              "      <td>796</td>\n",
              "      <td>Silent</td>\n",
              "    </tr>\n",
              "    <tr>\n",
              "      <th>2</th>\n",
              "      <td>Albania</td>\n",
              "      <td>1987</td>\n",
              "      <td>female</td>\n",
              "      <td>15-24 years</td>\n",
              "      <td>14</td>\n",
              "      <td>289700</td>\n",
              "      <td>4.83</td>\n",
              "      <td>2156624900</td>\n",
              "      <td>796</td>\n",
              "      <td>Generation X</td>\n",
              "    </tr>\n",
              "    <tr>\n",
              "      <th>3</th>\n",
              "      <td>Albania</td>\n",
              "      <td>1987</td>\n",
              "      <td>male</td>\n",
              "      <td>75+ years</td>\n",
              "      <td>1</td>\n",
              "      <td>21800</td>\n",
              "      <td>4.59</td>\n",
              "      <td>2156624900</td>\n",
              "      <td>796</td>\n",
              "      <td>G.I. Generation</td>\n",
              "    </tr>\n",
              "    <tr>\n",
              "      <th>4</th>\n",
              "      <td>Albania</td>\n",
              "      <td>1987</td>\n",
              "      <td>male</td>\n",
              "      <td>25-34 years</td>\n",
              "      <td>9</td>\n",
              "      <td>274300</td>\n",
              "      <td>3.28</td>\n",
              "      <td>2156624900</td>\n",
              "      <td>796</td>\n",
              "      <td>Boomers</td>\n",
              "    </tr>\n",
              "  </tbody>\n",
              "</table>\n",
              "</div>"
            ],
            "text/plain": [
              "   country  year     sex  ... gdp_for_year ($)  gdp_per_capita ($)       generation\n",
              "0  Albania  1987    male  ...       2156624900                 796     Generation X\n",
              "1  Albania  1987    male  ...       2156624900                 796           Silent\n",
              "2  Albania  1987  female  ...       2156624900                 796     Generation X\n",
              "3  Albania  1987    male  ...       2156624900                 796  G.I. Generation\n",
              "4  Albania  1987    male  ...       2156624900                 796          Boomers\n",
              "\n",
              "[5 rows x 10 columns]"
            ]
          },
          "metadata": {
            "tags": []
          },
          "execution_count": 52
        }
      ]
    },
    {
      "cell_type": "code",
      "metadata": {
        "colab": {
          "base_uri": "https://localhost:8080/",
          "height": 947
        },
        "id": "9L6_oZ4OSe3d",
        "outputId": "734d5be2-e98d-4533-e959-d23a265d2a7c"
      },
      "source": [
        "#Distribution of numerical features\n",
        "Suicide_df_1.loc[:,:].hist(bins=50,\n",
        "                 figsize=(16,16),\n",
        "                 xlabelsize='10',\n",
        "                 ylabelsize='10');"
      ],
      "execution_count": 53,
      "outputs": [
        {
          "output_type": "display_data",
          "data": {
            "image/png": "[encoded data removed]",
            "text/plain": [
              "<Figure size 1152x1152 with 6 Axes>"
            ]
          },
          "metadata": {
            "tags": [],
            "needs_background": "light"
          }
        }
      ]
    },
    {
      "cell_type": "code",
      "metadata": {
        "colab": {
          "base_uri": "https://localhost:8080/",
          "height": 235
        },
        "id": "xF6biC-DE5q5",
        "outputId": "ea4187f8-5b53-42ac-c5cc-594733bb5bcc"
      },
      "source": [
        "#Correlation Matrix and Correlation Map\n",
        "Suicide_df_1.corr().sort_values(by = ['suicides/100k pop']) "
      ],
      "execution_count": 56,
      "outputs": [
        {
          "output_type": "execute_result",
          "data": {
            "text/html": [
              "<div>\n",
              "<style scoped>\n",
              "    .dataframe tbody tr th:only-of-type {\n",
              "        vertical-align: middle;\n",
              "    }\n",
              "\n",
              "    .dataframe tbody tr th {\n",
              "        vertical-align: top;\n",
              "    }\n",
              "\n",
              "    .dataframe thead th {\n",
              "        text-align: right;\n",
              "    }\n",
              "</style>\n",
              "<table border=\"1\" class=\"dataframe\">\n",
              "  <thead>\n",
              "    <tr style=\"text-align: right;\">\n",
              "      <th></th>\n",
              "      <th>year</th>\n",
              "      <th>suicides_no</th>\n",
              "      <th>population</th>\n",
              "      <th>suicides/100k pop</th>\n",
              "      <th>gdp_for_year ($)</th>\n",
              "      <th>gdp_per_capita ($)</th>\n",
              "    </tr>\n",
              "  </thead>\n",
              "  <tbody>\n",
              "    <tr>\n",
              "      <th>year</th>\n",
              "      <td>1.000000</td>\n",
              "      <td>-0.004717</td>\n",
              "      <td>0.002835</td>\n",
              "      <td>-0.033777</td>\n",
              "      <td>0.090022</td>\n",
              "      <td>0.332490</td>\n",
              "    </tr>\n",
              "    <tr>\n",
              "      <th>gdp_per_capita ($)</th>\n",
              "      <td>0.332490</td>\n",
              "      <td>0.062531</td>\n",
              "      <td>0.086447</td>\n",
              "      <td>0.003520</td>\n",
              "      <td>0.311555</td>\n",
              "      <td>1.000000</td>\n",
              "    </tr>\n",
              "    <tr>\n",
              "      <th>population</th>\n",
              "      <td>0.002835</td>\n",
              "      <td>0.610108</td>\n",
              "      <td>1.000000</td>\n",
              "      <td>0.008567</td>\n",
              "      <td>0.710331</td>\n",
              "      <td>0.086447</td>\n",
              "    </tr>\n",
              "    <tr>\n",
              "      <th>gdp_for_year ($)</th>\n",
              "      <td>0.090022</td>\n",
              "      <td>0.421262</td>\n",
              "      <td>0.710331</td>\n",
              "      <td>0.025684</td>\n",
              "      <td>1.000000</td>\n",
              "      <td>0.311555</td>\n",
              "    </tr>\n",
              "    <tr>\n",
              "      <th>suicides_no</th>\n",
              "      <td>-0.004717</td>\n",
              "      <td>1.000000</td>\n",
              "      <td>0.610108</td>\n",
              "      <td>0.308768</td>\n",
              "      <td>0.421262</td>\n",
              "      <td>0.062531</td>\n",
              "    </tr>\n",
              "    <tr>\n",
              "      <th>suicides/100k pop</th>\n",
              "      <td>-0.033777</td>\n",
              "      <td>0.308768</td>\n",
              "      <td>0.008567</td>\n",
              "      <td>1.000000</td>\n",
              "      <td>0.025684</td>\n",
              "      <td>0.003520</td>\n",
              "    </tr>\n",
              "  </tbody>\n",
              "</table>\n",
              "</div>"
            ],
            "text/plain": [
              "                        year  suicides_no  ...  gdp_for_year ($)  gdp_per_capita ($)\n",
              "year                1.000000    -0.004717  ...          0.090022            0.332490\n",
              "gdp_per_capita ($)  0.332490     0.062531  ...          0.311555            1.000000\n",
              "population          0.002835     0.610108  ...          0.710331            0.086447\n",
              "gdp_for_year ($)    0.090022     0.421262  ...          1.000000            0.311555\n",
              "suicides_no        -0.004717     1.000000  ...          0.421262            0.062531\n",
              "suicides/100k pop  -0.033777     0.308768  ...          0.025684            0.003520\n",
              "\n",
              "[6 rows x 6 columns]"
            ]
          },
          "metadata": {
            "tags": []
          },
          "execution_count": 56
        }
      ]
    },
    {
      "cell_type": "code",
      "metadata": {
        "colab": {
          "base_uri": "https://localhost:8080/",
          "height": 353
        },
        "id": "0r2tEnOEGaFx",
        "outputId": "0bcf9062-a1e1-43f7-cf12-18830b89cf41"
      },
      "source": [
        "sns.heatmap(Suicide_df_1.corr().sort_values(by = ['suicides/100k pop']), cmap = sns.diverging_palette(240, 10, n=9)); "
      ],
      "execution_count": 58,
      "outputs": [
        {
          "output_type": "display_data",
          "data": {
            "image/png": "[encoded data removed]",
            "text/plain": [
              "<Figure size 432x288 with 2 Axes>"
            ]
          },
          "metadata": {
            "tags": [],
            "needs_background": "light"
          }
        }
      ]
    },
    {
      "cell_type": "markdown",
      "metadata": {
        "id": "CR0Pl8WyZcGX"
      },
      "source": [
        "# **Data Preparation for modeling**"
      ]
    },
    {
      "cell_type": "markdown",
      "metadata": {
        "id": "XbhVw-E86kwi"
      },
      "source": [
        "we will get rid of column country as it will be represented by gdp and population. Suicides_no is represented by suicides/100k population. This gives us more absolute density of suicides which is more comparable betweeen countries.\n",
        "'gdp for year' is also captured in 'gdp per capita' and 'generation' is synonimous with the age group so they are essentially the same column."
      ]
    },
    {
      "cell_type": "code",
      "metadata": {
        "id": "gqFZJrd36gnb"
      },
      "source": [
        "#Prepare for the data for modeling\n",
        "Suicide_data=Suicide_df_1.drop(columns=['country', 'suicides_no', 'gdp_for_year ($)', 'generation'])"
      ],
      "execution_count": 60,
      "outputs": []
    },
    {
      "cell_type": "code",
      "metadata": {
        "colab": {
          "base_uri": "https://localhost:8080/",
          "height": 419
        },
        "id": "7aAi6hNw6gkB",
        "outputId": "bfe1b02e-c08e-4feb-91da-e792c156d49c"
      },
      "source": [
        "Suicide_data"
      ],
      "execution_count": null,
      "outputs": [
        {
          "output_type": "execute_result",
          "data": {
            "text/html": [
              "<div>\n",
              "<style scoped>\n",
              "    .dataframe tbody tr th:only-of-type {\n",
              "        vertical-align: middle;\n",
              "    }\n",
              "\n",
              "    .dataframe tbody tr th {\n",
              "        vertical-align: top;\n",
              "    }\n",
              "\n",
              "    .dataframe thead th {\n",
              "        text-align: right;\n",
              "    }\n",
              "</style>\n",
              "<table border=\"1\" class=\"dataframe\">\n",
              "  <thead>\n",
              "    <tr style=\"text-align: right;\">\n",
              "      <th></th>\n",
              "      <th>year</th>\n",
              "      <th>sex</th>\n",
              "      <th>age</th>\n",
              "      <th>population</th>\n",
              "      <th>suicides/100k pop</th>\n",
              "      <th>gdp_per_capita ($)</th>\n",
              "    </tr>\n",
              "  </thead>\n",
              "  <tbody>\n",
              "    <tr>\n",
              "      <th>0</th>\n",
              "      <td>1987</td>\n",
              "      <td>male</td>\n",
              "      <td>15-24 years</td>\n",
              "      <td>312900</td>\n",
              "      <td>6.71</td>\n",
              "      <td>796</td>\n",
              "    </tr>\n",
              "    <tr>\n",
              "      <th>1</th>\n",
              "      <td>1987</td>\n",
              "      <td>male</td>\n",
              "      <td>35-54 years</td>\n",
              "      <td>308000</td>\n",
              "      <td>5.19</td>\n",
              "      <td>796</td>\n",
              "    </tr>\n",
              "    <tr>\n",
              "      <th>2</th>\n",
              "      <td>1987</td>\n",
              "      <td>female</td>\n",
              "      <td>15-24 years</td>\n",
              "      <td>289700</td>\n",
              "      <td>4.83</td>\n",
              "      <td>796</td>\n",
              "    </tr>\n",
              "    <tr>\n",
              "      <th>3</th>\n",
              "      <td>1987</td>\n",
              "      <td>male</td>\n",
              "      <td>75+ years</td>\n",
              "      <td>21800</td>\n",
              "      <td>4.59</td>\n",
              "      <td>796</td>\n",
              "    </tr>\n",
              "    <tr>\n",
              "      <th>4</th>\n",
              "      <td>1987</td>\n",
              "      <td>male</td>\n",
              "      <td>25-34 years</td>\n",
              "      <td>274300</td>\n",
              "      <td>3.28</td>\n",
              "      <td>796</td>\n",
              "    </tr>\n",
              "    <tr>\n",
              "      <th>...</th>\n",
              "      <td>...</td>\n",
              "      <td>...</td>\n",
              "      <td>...</td>\n",
              "      <td>...</td>\n",
              "      <td>...</td>\n",
              "      <td>...</td>\n",
              "    </tr>\n",
              "    <tr>\n",
              "      <th>27803</th>\n",
              "      <td>2013</td>\n",
              "      <td>female</td>\n",
              "      <td>35-54 years</td>\n",
              "      <td>3547895</td>\n",
              "      <td>2.79</td>\n",
              "      <td>2150</td>\n",
              "    </tr>\n",
              "    <tr>\n",
              "      <th>27804</th>\n",
              "      <td>2013</td>\n",
              "      <td>female</td>\n",
              "      <td>75+ years</td>\n",
              "      <td>345180</td>\n",
              "      <td>2.32</td>\n",
              "      <td>2150</td>\n",
              "    </tr>\n",
              "    <tr>\n",
              "      <th>27805</th>\n",
              "      <td>2013</td>\n",
              "      <td>male</td>\n",
              "      <td>5-14 years</td>\n",
              "      <td>2720938</td>\n",
              "      <td>2.24</td>\n",
              "      <td>2150</td>\n",
              "    </tr>\n",
              "    <tr>\n",
              "      <th>27806</th>\n",
              "      <td>2013</td>\n",
              "      <td>female</td>\n",
              "      <td>55-74 years</td>\n",
              "      <td>1356298</td>\n",
              "      <td>1.55</td>\n",
              "      <td>2150</td>\n",
              "    </tr>\n",
              "    <tr>\n",
              "      <th>27807</th>\n",
              "      <td>2013</td>\n",
              "      <td>female</td>\n",
              "      <td>5-14 years</td>\n",
              "      <td>2595000</td>\n",
              "      <td>1.19</td>\n",
              "      <td>2150</td>\n",
              "    </tr>\n",
              "  </tbody>\n",
              "</table>\n",
              "<p>25980 rows × 6 columns</p>\n",
              "</div>"
            ],
            "text/plain": [
              "       year     sex  ... suicides/100k pop  gdp_per_capita ($)\n",
              "0      1987    male  ...              6.71                 796\n",
              "1      1987    male  ...              5.19                 796\n",
              "2      1987  female  ...              4.83                 796\n",
              "3      1987    male  ...              4.59                 796\n",
              "4      1987    male  ...              3.28                 796\n",
              "...     ...     ...  ...               ...                 ...\n",
              "27803  2013  female  ...              2.79                2150\n",
              "27804  2013  female  ...              2.32                2150\n",
              "27805  2013    male  ...              2.24                2150\n",
              "27806  2013  female  ...              1.55                2150\n",
              "27807  2013  female  ...              1.19                2150\n",
              "\n",
              "[25980 rows x 6 columns]"
            ]
          },
          "metadata": {
            "tags": []
          },
          "execution_count": 119
        }
      ]
    },
    {
      "cell_type": "code",
      "metadata": {
        "colab": {
          "base_uri": "https://localhost:8080/",
          "height": 204
        },
        "id": "LLzHjy9X6gfu",
        "outputId": "ad7c8d7d-a059-4632-f52f-c166561d767b"
      },
      "source": [
        "#coverting the categorical data into numerical\n",
        "ohe = pd.get_dummies(Suicide_data, columns = ['sex', 'age'], drop_first = True)\n",
        "ohe.head()"
      ],
      "execution_count": 61,
      "outputs": [
        {
          "output_type": "execute_result",
          "data": {
            "text/html": [
              "<div>\n",
              "<style scoped>\n",
              "    .dataframe tbody tr th:only-of-type {\n",
              "        vertical-align: middle;\n",
              "    }\n",
              "\n",
              "    .dataframe tbody tr th {\n",
              "        vertical-align: top;\n",
              "    }\n",
              "\n",
              "    .dataframe thead th {\n",
              "        text-align: right;\n",
              "    }\n",
              "</style>\n",
              "<table border=\"1\" class=\"dataframe\">\n",
              "  <thead>\n",
              "    <tr style=\"text-align: right;\">\n",
              "      <th></th>\n",
              "      <th>year</th>\n",
              "      <th>population</th>\n",
              "      <th>suicides/100k pop</th>\n",
              "      <th>gdp_per_capita ($)</th>\n",
              "      <th>sex_male</th>\n",
              "      <th>age_25-34 years</th>\n",
              "      <th>age_35-54 years</th>\n",
              "      <th>age_5-14 years</th>\n",
              "      <th>age_55-74 years</th>\n",
              "      <th>age_75+ years</th>\n",
              "    </tr>\n",
              "  </thead>\n",
              "  <tbody>\n",
              "    <tr>\n",
              "      <th>0</th>\n",
              "      <td>1987</td>\n",
              "      <td>312900</td>\n",
              "      <td>6.71</td>\n",
              "      <td>796</td>\n",
              "      <td>1</td>\n",
              "      <td>0</td>\n",
              "      <td>0</td>\n",
              "      <td>0</td>\n",
              "      <td>0</td>\n",
              "      <td>0</td>\n",
              "    </tr>\n",
              "    <tr>\n",
              "      <th>1</th>\n",
              "      <td>1987</td>\n",
              "      <td>308000</td>\n",
              "      <td>5.19</td>\n",
              "      <td>796</td>\n",
              "      <td>1</td>\n",
              "      <td>0</td>\n",
              "      <td>1</td>\n",
              "      <td>0</td>\n",
              "      <td>0</td>\n",
              "      <td>0</td>\n",
              "    </tr>\n",
              "    <tr>\n",
              "      <th>2</th>\n",
              "      <td>1987</td>\n",
              "      <td>289700</td>\n",
              "      <td>4.83</td>\n",
              "      <td>796</td>\n",
              "      <td>0</td>\n",
              "      <td>0</td>\n",
              "      <td>0</td>\n",
              "      <td>0</td>\n",
              "      <td>0</td>\n",
              "      <td>0</td>\n",
              "    </tr>\n",
              "    <tr>\n",
              "      <th>3</th>\n",
              "      <td>1987</td>\n",
              "      <td>21800</td>\n",
              "      <td>4.59</td>\n",
              "      <td>796</td>\n",
              "      <td>1</td>\n",
              "      <td>0</td>\n",
              "      <td>0</td>\n",
              "      <td>0</td>\n",
              "      <td>0</td>\n",
              "      <td>1</td>\n",
              "    </tr>\n",
              "    <tr>\n",
              "      <th>4</th>\n",
              "      <td>1987</td>\n",
              "      <td>274300</td>\n",
              "      <td>3.28</td>\n",
              "      <td>796</td>\n",
              "      <td>1</td>\n",
              "      <td>1</td>\n",
              "      <td>0</td>\n",
              "      <td>0</td>\n",
              "      <td>0</td>\n",
              "      <td>0</td>\n",
              "    </tr>\n",
              "  </tbody>\n",
              "</table>\n",
              "</div>"
            ],
            "text/plain": [
              "   year  population  ...  age_55-74 years  age_75+ years\n",
              "0  1987      312900  ...                0              0\n",
              "1  1987      308000  ...                0              0\n",
              "2  1987      289700  ...                0              0\n",
              "3  1987       21800  ...                0              1\n",
              "4  1987      274300  ...                0              0\n",
              "\n",
              "[5 rows x 10 columns]"
            ]
          },
          "metadata": {
            "tags": []
          },
          "execution_count": 61
        }
      ]
    },
    {
      "cell_type": "code",
      "metadata": {
        "id": "1eoI2JQ5R7gy"
      },
      "source": [
        "X_t=ohe.drop(columns='suicides/100k pop')"
      ],
      "execution_count": 62,
      "outputs": []
    },
    {
      "cell_type": "code",
      "metadata": {
        "id": "iEvaKFwD6gbV"
      },
      "source": [
        "#Creating X and y for the modeling\n",
        "X=X_t.values"
      ],
      "execution_count": 63,
      "outputs": []
    },
    {
      "cell_type": "code",
      "metadata": {
        "id": "2xQkdd2CJ5oy"
      },
      "source": [
        "y=ohe['suicides/100k pop']"
      ],
      "execution_count": null,
      "outputs": []
    },
    {
      "cell_type": "code",
      "metadata": {
        "colab": {
          "base_uri": "https://localhost:8080/"
        },
        "id": "P-CfFoyhKBT-",
        "outputId": "c6afdd06-0ea9-479c-da68-76490c27fe79"
      },
      "source": [
        "X.shape"
      ],
      "execution_count": null,
      "outputs": [
        {
          "output_type": "execute_result",
          "data": {
            "text/plain": [
              "(25980, 9)"
            ]
          },
          "metadata": {
            "tags": []
          },
          "execution_count": 124
        }
      ]
    },
    {
      "cell_type": "code",
      "metadata": {
        "colab": {
          "base_uri": "https://localhost:8080/"
        },
        "id": "BmOXYPwJKCf1",
        "outputId": "ba3258d5-3b90-48d7-a0cd-93fc2491954e"
      },
      "source": [
        "y.shape"
      ],
      "execution_count": null,
      "outputs": [
        {
          "output_type": "execute_result",
          "data": {
            "text/plain": [
              "(25980,)"
            ]
          },
          "metadata": {
            "tags": []
          },
          "execution_count": 125
        }
      ]
    },
    {
      "cell_type": "code",
      "metadata": {
        "id": "q5hgB3VUKv6X"
      },
      "source": [
        "#Test train data split\n",
        "X_train, X_test, y_train, y_test = train_test_split(X, y, random_state=2) "
      ],
      "execution_count": null,
      "outputs": []
    },
    {
      "cell_type": "code",
      "metadata": {
        "id": "ecjrOGwDK2UE"
      },
      "source": [
        "scaler = StandardScaler()           #standardising the data\n",
        "scaler.fit(X_train)\n",
        "X_train_sc = scaler.transform(X_train)\n",
        "X_test_sc=scaler.transform(X_test)"
      ],
      "execution_count": null,
      "outputs": []
    },
    {
      "cell_type": "markdown",
      "metadata": {
        "id": "FpPJRrs0Ndjp"
      },
      "source": [
        "# **Linear Regression**"
      ]
    },
    {
      "cell_type": "code",
      "metadata": {
        "id": "CALDJB3YNUb_"
      },
      "source": [
        "LinReg=LinearRegression(fit_intercept=True)"
      ],
      "execution_count": null,
      "outputs": []
    },
    {
      "cell_type": "code",
      "metadata": {
        "colab": {
          "base_uri": "https://localhost:8080/"
        },
        "id": "2ka7pSMRNfbt",
        "outputId": "844a9606-abb4-4ef5-edf3-6cd8b22028c8"
      },
      "source": [
        "LinReg.fit(X_train,y_train)"
      ],
      "execution_count": null,
      "outputs": [
        {
          "output_type": "execute_result",
          "data": {
            "text/plain": [
              "LinearRegression(copy_X=True, fit_intercept=True, n_jobs=None, normalize=False)"
            ]
          },
          "metadata": {
            "tags": []
          },
          "execution_count": 129
        }
      ]
    },
    {
      "cell_type": "code",
      "metadata": {
        "id": "DdZPVp5cNjYB"
      },
      "source": [
        "y_pred_ln=LinReg.predict(X_test)"
      ],
      "execution_count": null,
      "outputs": []
    },
    {
      "cell_type": "code",
      "metadata": {
        "colab": {
          "base_uri": "https://localhost:8080/"
        },
        "id": "GE1xGT4QNqGw",
        "outputId": "8fec9018-6356-4fb5-cfa9-754a0dfc303c"
      },
      "source": [
        "score = LinReg.score(X_test, y_test)\n",
        "print(\"Linear Regression R2 score is\", score)\n",
        "print(\"RMSE for Linear Regression\", np.sqrt(mean_squared_error(y_test, y_pred_ln)))"
      ],
      "execution_count": null,
      "outputs": [
        {
          "output_type": "stream",
          "text": [
            "Linear Regression R2 score is 0.29178963879367803\n",
            "RMSE for Linear Regression 16.1966562160495\n"
          ],
          "name": "stdout"
        }
      ]
    },
    {
      "cell_type": "markdown",
      "metadata": {
        "id": "AvMF0s8uMYEb"
      },
      "source": [
        "# **KNN Regression Model**"
      ]
    },
    {
      "cell_type": "code",
      "metadata": {
        "id": "pIQbDIWrOO0y"
      },
      "source": [
        "scaler = StandardScaler()           #standardising the data\n",
        "scaler.fit(X_train)\n",
        "X_train_sc = scaler.transform(X_train)\n",
        "X_test_sc=scaler.transform(X_test)"
      ],
      "execution_count": null,
      "outputs": []
    },
    {
      "cell_type": "code",
      "metadata": {
        "colab": {
          "base_uri": "https://localhost:8080/"
        },
        "id": "N833MrV4OUzo",
        "outputId": "4832efdc-268f-4ab0-94f9-4858f0b2fdde"
      },
      "source": [
        "Reg = KNeighborsRegressor(n_neighbors= 3)     #creating an instant of KNeighborRegressor class\n",
        "Reg.fit(X_train_sc,y_train)          #Creating a model"
      ],
      "execution_count": null,
      "outputs": [
        {
          "output_type": "execute_result",
          "data": {
            "text/plain": [
              "KNeighborsRegressor(algorithm='auto', leaf_size=30, metric='minkowski',\n",
              "                    metric_params=None, n_jobs=None, n_neighbors=3, p=2,\n",
              "                    weights='uniform')"
            ]
          },
          "metadata": {
            "tags": []
          },
          "execution_count": 134
        }
      ]
    },
    {
      "cell_type": "code",
      "metadata": {
        "id": "OJGDkkN9OZUZ",
        "colab": {
          "base_uri": "https://localhost:8080/"
        },
        "outputId": "902c6b1c-ad14-4c37-9756-1e4c864d5901"
      },
      "source": [
        "y_pred_knn=Reg.predict(X_test_sc)    #Calculating the predicted values\n",
        "y_pred_knn"
      ],
      "execution_count": null,
      "outputs": [
        {
          "output_type": "execute_result",
          "data": {
            "text/plain": [
              "array([ 1.50666667, 52.48      , 15.87      , ..., 10.89666667,\n",
              "        0.85      ,  0.89666667])"
            ]
          },
          "metadata": {
            "tags": []
          },
          "execution_count": 135
        }
      ]
    },
    {
      "cell_type": "code",
      "metadata": {
        "colab": {
          "base_uri": "https://localhost:8080/"
        },
        "id": "RMuxUeb7OvHR",
        "outputId": "2fdbb688-673f-4a2b-a0b8-28ab64adca5d"
      },
      "source": [
        "score = Reg.score(X_test_sc, y_test)\n",
        "print(\"KNN Regression R2 score is\", score)\n",
        "print(\"RMSE for KNN Regression\", np.sqrt(mean_squared_error(y_test, y_pred_knn)))"
      ],
      "execution_count": null,
      "outputs": [
        {
          "output_type": "stream",
          "text": [
            "KNN Regression R2 score is 0.36388594523687834\n",
            "RMSE for KNN Regression 15.350118116463355\n"
          ],
          "name": "stdout"
        }
      ]
    },
    {
      "cell_type": "markdown",
      "metadata": {
        "id": "sTyrYNhvT_3k"
      },
      "source": [
        "# **Random Forest Regression**"
      ]
    },
    {
      "cell_type": "code",
      "metadata": {
        "id": "z29_-XTbUaAH"
      },
      "source": [
        "clf = RandomForestRegressor(n_estimators=100,\n",
        "                             bootstrap=True,\n",
        "                             oob_score=True)"
      ],
      "execution_count": null,
      "outputs": []
    },
    {
      "cell_type": "code",
      "metadata": {
        "colab": {
          "base_uri": "https://localhost:8080/"
        },
        "id": "jvX0dOsFUjFX",
        "outputId": "68396f89-2eb7-424f-eef5-23c322dd2f03"
      },
      "source": [
        "clf.fit(X_train, y_train)"
      ],
      "execution_count": null,
      "outputs": [
        {
          "output_type": "execute_result",
          "data": {
            "text/plain": [
              "RandomForestRegressor(bootstrap=True, ccp_alpha=0.0, criterion='mse',\n",
              "                      max_depth=None, max_features='auto', max_leaf_nodes=None,\n",
              "                      max_samples=None, min_impurity_decrease=0.0,\n",
              "                      min_impurity_split=None, min_samples_leaf=1,\n",
              "                      min_samples_split=2, min_weight_fraction_leaf=0.0,\n",
              "                      n_estimators=100, n_jobs=None, oob_score=True,\n",
              "                      random_state=None, verbose=0, warm_start=False)"
            ]
          },
          "metadata": {
            "tags": []
          },
          "execution_count": 138
        }
      ]
    },
    {
      "cell_type": "code",
      "metadata": {
        "id": "HT-VAmWPUzLD"
      },
      "source": [
        "y_pred_rf=clf.predict(X_test)"
      ],
      "execution_count": null,
      "outputs": []
    },
    {
      "cell_type": "code",
      "metadata": {
        "colab": {
          "base_uri": "https://localhost:8080/"
        },
        "id": "x13SCiK-U6pH",
        "outputId": "5dbb93d6-500e-4615-da62-1fc8b78f007b"
      },
      "source": [
        "score = clf.score(X_test, y_test)\n",
        "print(\"Random Forest Regression R2 score is\", score)\n",
        "print(\"RMSE for Random Forest Regression\", np.sqrt(mean_squared_error(y_test, y_pred_rf)))\n"
      ],
      "execution_count": null,
      "outputs": [
        {
          "output_type": "stream",
          "text": [
            "Random Forest Regression R2 score is 0.717334128577308\n",
            "RMSE for Random Forest Regression 10.232480221167398\n"
          ],
          "name": "stdout"
        }
      ]
    },
    {
      "cell_type": "code",
      "metadata": {
        "colab": {
          "base_uri": "https://localhost:8080/"
        },
        "id": "3X604ns0YISV",
        "outputId": "d4fa6404-8082-4821-d6b0-29c93505ff2f"
      },
      "source": [
        "from sklearn.model_selection import GridSearchCV    #Thanks Noelle for the insight\n",
        "params = {'n_estimators': [10, 50, 100, 200],\n",
        "          'max_depth': [None, 2, 3, 4, 5],\n",
        "          'min_samples_split': [2, 3],\n",
        "          'min_samples_leaf': [1, 2]}\n",
        "\n",
        "#Fit the grid search\n",
        "gs = GridSearchCV(RandomForestRegressor(), param_grid = params)\n",
        "gs.fit(X_train, y_train)"
      ],
      "execution_count": null,
      "outputs": [
        {
          "output_type": "execute_result",
          "data": {
            "text/plain": [
              "GridSearchCV(cv=None, error_score=nan,\n",
              "             estimator=RandomForestRegressor(bootstrap=True, ccp_alpha=0.0,\n",
              "                                             criterion='mse', max_depth=None,\n",
              "                                             max_features='auto',\n",
              "                                             max_leaf_nodes=None,\n",
              "                                             max_samples=None,\n",
              "                                             min_impurity_decrease=0.0,\n",
              "                                             min_impurity_split=None,\n",
              "                                             min_samples_leaf=1,\n",
              "                                             min_samples_split=2,\n",
              "                                             min_weight_fraction_leaf=0.0,\n",
              "                                             n_estimators=100, n_jobs=None,\n",
              "                                             oob_score=False, random_state=None,\n",
              "                                             verbose=0, warm_start=False),\n",
              "             iid='deprecated', n_jobs=None,\n",
              "             param_grid={'max_depth': [None, 2, 3, 4, 5],\n",
              "                         'min_samples_leaf': [1, 2],\n",
              "                         'min_samples_split': [2, 3],\n",
              "                         'n_estimators': [10, 50, 100, 200]},\n",
              "             pre_dispatch='2*n_jobs', refit=True, return_train_score=False,\n",
              "             scoring=None, verbose=0)"
            ]
          },
          "metadata": {
            "tags": []
          },
          "execution_count": 141
        }
      ]
    },
    {
      "cell_type": "code",
      "metadata": {
        "colab": {
          "base_uri": "https://localhost:8080/"
        },
        "id": "WbsstoG04IV8",
        "outputId": "71ee3c9a-dc85-4868-9788-7aef6d929701"
      },
      "source": [
        "gs.best_params_"
      ],
      "execution_count": null,
      "outputs": [
        {
          "output_type": "execute_result",
          "data": {
            "text/plain": [
              "{'max_depth': None,\n",
              " 'min_samples_leaf': 1,\n",
              " 'min_samples_split': 2,\n",
              " 'n_estimators': 100}"
            ]
          },
          "metadata": {
            "tags": []
          },
          "execution_count": 142
        }
      ]
    },
    {
      "cell_type": "code",
      "metadata": {
        "colab": {
          "base_uri": "https://localhost:8080/"
        },
        "id": "jb93Gwys4Zne",
        "outputId": "6a05f22b-8792-4ea2-9150-c5a51dfb70a5"
      },
      "source": [
        "y_pred_rfgs=gs.predict(X_test)\n",
        "score = gs.score(X_test, y_test)\n",
        "print(\"Random Forest Regression R2 score is\", score)\n",
        "print(\"RMSE for Random Forest Regression\", np.sqrt(mean_squared_error(y_test, y_pred_rfgs)))"
      ],
      "execution_count": null,
      "outputs": [
        {
          "output_type": "stream",
          "text": [
            "Random Forest Regression R2 score is 0.7098341427453494\n",
            "RMSE for Random Forest Regression 10.36734093220312\n"
          ],
          "name": "stdout"
        }
      ]
    },
    {
      "cell_type": "markdown",
      "metadata": {
        "id": "KXaLbQatXy1n"
      },
      "source": [
        "The original Random Forest model is the best model to be fit."
      ]
    },
    {
      "cell_type": "markdown",
      "metadata": {
        "id": "gWIUVk38YuQR"
      },
      "source": [
        "# **Bagged Tree Regression**\n",
        "\n"
      ]
    },
    {
      "cell_type": "code",
      "metadata": {
        "id": "Hpio6wyTY7iO"
      },
      "source": [
        "clf1= BaggingRegressor(n_estimators=50,\n",
        "                             bootstrap=True,\n",
        "                             oob_score=True)"
      ],
      "execution_count": null,
      "outputs": []
    },
    {
      "cell_type": "code",
      "metadata": {
        "id": "Mf1WslmBY__U"
      },
      "source": [
        "clf1.fit(X_train, y_train)\n",
        "y_pred_bt=clf1.predict(X_test)"
      ],
      "execution_count": null,
      "outputs": []
    },
    {
      "cell_type": "code",
      "metadata": {
        "id": "Al9o7DAKZImG"
      },
      "source": [
        "score = clf1.score(X_test, y_test)"
      ],
      "execution_count": null,
      "outputs": []
    },
    {
      "cell_type": "code",
      "metadata": {
        "colab": {
          "base_uri": "https://localhost:8080/"
        },
        "id": "fP8ScWSeZuQm",
        "outputId": "5019e68c-d5b1-46b5-b573-c1ee588bc4fe"
      },
      "source": [
        "print(\"Bagged Tree Regression R2 score is\", score)\n",
        "print(\"RMSE for Bagged Tree Regression\", np.sqrt(mean_squared_error(y_test, y_pred_bt)))"
      ],
      "execution_count": null,
      "outputs": [
        {
          "output_type": "stream",
          "text": [
            "Bagged Tree Regression R2 score is 0.7127584773182682\n",
            "RMSE for Bagged Tree Regression 10.314966839306852\n"
          ],
          "name": "stdout"
        }
      ]
    },
    {
      "cell_type": "markdown",
      "metadata": {
        "id": "TQS1wp0vCcIz"
      },
      "source": [
        "# **Feature Importance**"
      ]
    },
    {
      "cell_type": "code",
      "metadata": {
        "colab": {
          "base_uri": "https://localhost:8080/"
        },
        "id": "u9i7Y9kO6mBV",
        "outputId": "46376e25-0ec7-4ceb-ce2c-1052cf0c5899"
      },
      "source": [
        "clf.feature_importances_.shape"
      ],
      "execution_count": null,
      "outputs": [
        {
          "output_type": "execute_result",
          "data": {
            "text/plain": [
              "(9,)"
            ]
          },
          "metadata": {
            "tags": []
          },
          "execution_count": 148
        }
      ]
    },
    {
      "cell_type": "code",
      "metadata": {
        "colab": {
          "base_uri": "https://localhost:8080/"
        },
        "id": "02JPFLW37RLe",
        "outputId": "7d31751c-8efa-4c2e-db32-64e1198cf8f3"
      },
      "source": [
        "X_t.columns.values.shape"
      ],
      "execution_count": null,
      "outputs": [
        {
          "output_type": "execute_result",
          "data": {
            "text/plain": [
              "(9,)"
            ]
          },
          "metadata": {
            "tags": []
          },
          "execution_count": 149
        }
      ]
    },
    {
      "cell_type": "code",
      "metadata": {
        "colab": {
          "base_uri": "https://localhost:8080/",
          "height": 279
        },
        "id": "db2WonIEAyuc",
        "outputId": "94ff0641-cf9e-4548-c38d-6d5fbcb2ca49"
      },
      "source": [
        "plt.barh(X_t.columns.values, clf.feature_importances_)     #Thanks to https://towardsdatascience.com/the-3-ways-to-compute-feature-importance-in-the-random-forest-96c86b49e6d4\n",
        "#plt.figure(figsize=(20, 5))  # width:20, height:3\n",
        "\n",
        "sorted_idx = clf.feature_importances_.argsort()\n",
        "plt.barh(X_t.columns.values[sorted_idx], clf.feature_importances_[sorted_idx])\n",
        "plt.xlabel(\"Random Forest Feature Importance\");\n"
      ],
      "execution_count": null,
      "outputs": [
        {
          "output_type": "display_data",
          "data": {
            "image/png": "[encoded data removed]",
            "text/plain": [
              "<Figure size 432x288 with 1 Axes>"
            ]
          },
          "metadata": {
            "tags": [],
            "needs_background": "light"
          }
        }
      ]
    },
    {
      "cell_type": "markdown",
      "metadata": {
        "id": "j-KNSbBMYD7Z"
      },
      "source": [
        "# **Neural Network**"
      ]
    },
    {
      "cell_type": "code",
      "metadata": {
        "id": "EB_1Xiy9TEvb"
      },
      "source": [
        "from tensorflow.keras.models import Sequential\n",
        "from tensorflow.keras.layers import Dense, Dropout\n",
        "from tensorflow.keras.callbacks import EarlyStopping"
      ],
      "execution_count": null,
      "outputs": []
    },
    {
      "cell_type": "code",
      "metadata": {
        "colab": {
          "base_uri": "https://localhost:8080/"
        },
        "id": "D7Z6dAbWtSJJ",
        "outputId": "ca16ee65-8984-478a-d6dc-6ebac3bfdab0"
      },
      "source": [
        "# Step 1: Define our network structure\n",
        "# Save the input shape\n",
        "input_shape = X_train.shape[1]\n",
        "input_shape"
      ],
      "execution_count": null,
      "outputs": [
        {
          "output_type": "execute_result",
          "data": {
            "text/plain": [
              "9"
            ]
          },
          "metadata": {
            "tags": []
          },
          "execution_count": 152
        }
      ]
    },
    {
      "cell_type": "code",
      "metadata": {
        "id": "FDY-lKMMtfkg"
      },
      "source": [
        "# Sequential model\n",
        "model = Sequential()"
      ],
      "execution_count": null,
      "outputs": []
    },
    {
      "cell_type": "code",
      "metadata": {
        "id": "M2Wvdf7-5nRs"
      },
      "source": [
        "# First hidden layer\n",
        "model.add(Dense(4, # How many neurons you have in your first hidden layer\n",
        "                input_dim = input_shape, \n",
        "                activation = 'relu')) \n",
        "model.add(Dropout(.2))\n",
        " #Second hidden layer\n",
        "model.add(Dense(2, activation = 'relu'))\n",
        "\n",
        "model.add(Dropout(.2))"
      ],
      "execution_count": null,
      "outputs": []
    },
    {
      "cell_type": "code",
      "metadata": {
        "id": "Bmr_z8vM6Bf4"
      },
      "source": [
        "# Output layer\n",
        "model.add(Dense(1, activation = 'linear'))\n",
        "\n"
      ],
      "execution_count": null,
      "outputs": []
    },
    {
      "cell_type": "code",
      "metadata": {
        "id": "0XduEfD46FXv"
      },
      "source": [
        "# Step 2: Compile\n",
        "model.compile(loss = 'MSE', optimizer = 'adam', metrics = ['acc'])\n"
      ],
      "execution_count": null,
      "outputs": []
    },
    {
      "cell_type": "code",
      "metadata": {
        "colab": {
          "base_uri": "https://localhost:8080/"
        },
        "id": "vJp8E1Ig6IwP",
        "outputId": "33b9bdf6-3302-4c4a-f60d-75f658408fca"
      },
      "source": [
        "# Step 3: Fit our model\n",
        "history = model.fit(X_train_sc, y_train,\n",
        "                    validation_data = (X_test_sc, y_test), \n",
        "                    epochs=20)"
      ],
      "execution_count": null,
      "outputs": [
        {
          "output_type": "stream",
          "text": [
            "Epoch 1/20\n",
            "609/609 [==============================] - 3s 3ms/step - loss: 528.1344 - acc: 0.1372 - val_loss: 521.1531 - val_acc: 0.0011\n",
            "Epoch 2/20\n",
            "609/609 [==============================] - 1s 2ms/step - loss: 513.6025 - acc: 0.0011 - val_loss: 507.4442 - val_acc: 0.0011\n",
            "Epoch 3/20\n",
            "609/609 [==============================] - 1s 2ms/step - loss: 500.2296 - acc: 0.0011 - val_loss: 494.6248 - val_acc: 0.0011\n",
            "Epoch 4/20\n",
            "609/609 [==============================] - 1s 2ms/step - loss: 487.7015 - acc: 0.0011 - val_loss: 482.6040 - val_acc: 0.0011\n",
            "Epoch 5/20\n",
            "609/609 [==============================] - 1s 2ms/step - loss: 475.9651 - acc: 0.0011 - val_loss: 471.3483 - val_acc: 0.0011\n",
            "Epoch 6/20\n",
            "609/609 [==============================] - 1s 2ms/step - loss: 465.0044 - acc: 0.0011 - val_loss: 460.8835 - val_acc: 0.0011\n",
            "Epoch 7/20\n",
            "609/609 [==============================] - 1s 2ms/step - loss: 454.7559 - acc: 0.0011 - val_loss: 451.0583 - val_acc: 0.0011\n",
            "Epoch 8/20\n",
            "609/609 [==============================] - 1s 2ms/step - loss: 445.1704 - acc: 0.0011 - val_loss: 441.9094 - val_acc: 0.0011\n",
            "Epoch 9/20\n",
            "609/609 [==============================] - 1s 2ms/step - loss: 436.2307 - acc: 0.0011 - val_loss: 433.4179 - val_acc: 0.0011\n",
            "Epoch 10/20\n",
            "609/609 [==============================] - 1s 2ms/step - loss: 427.9419 - acc: 0.0011 - val_loss: 425.5517 - val_acc: 0.0011\n",
            "Epoch 11/20\n",
            "609/609 [==============================] - 1s 2ms/step - loss: 420.3204 - acc: 0.0011 - val_loss: 418.3492 - val_acc: 0.0011\n",
            "Epoch 12/20\n",
            "609/609 [==============================] - 1s 2ms/step - loss: 413.3144 - acc: 0.0011 - val_loss: 411.7572 - val_acc: 0.0011\n",
            "Epoch 13/20\n",
            "609/609 [==============================] - 1s 2ms/step - loss: 406.9245 - acc: 0.0011 - val_loss: 405.7652 - val_acc: 0.0011\n",
            "Epoch 14/20\n",
            "609/609 [==============================] - 1s 2ms/step - loss: 401.1479 - acc: 0.0011 - val_loss: 400.3648 - val_acc: 0.0011\n",
            "Epoch 15/20\n",
            "609/609 [==============================] - 1s 2ms/step - loss: 395.9297 - acc: 0.0011 - val_loss: 395.5207 - val_acc: 0.0011\n",
            "Epoch 16/20\n",
            "609/609 [==============================] - 1s 2ms/step - loss: 391.2678 - acc: 0.0011 - val_loss: 391.2197 - val_acc: 0.0011\n",
            "Epoch 17/20\n",
            "609/609 [==============================] - 1s 2ms/step - loss: 387.1443 - acc: 0.0011 - val_loss: 387.4449 - val_acc: 0.0011\n",
            "Epoch 18/20\n",
            "609/609 [==============================] - 1s 2ms/step - loss: 383.5263 - acc: 0.0011 - val_loss: 384.1454 - val_acc: 0.0011\n",
            "Epoch 19/20\n",
            "609/609 [==============================] - 1s 2ms/step - loss: 380.4044 - acc: 0.0011 - val_loss: 381.3349 - val_acc: 0.0011\n",
            "Epoch 20/20\n",
            "609/609 [==============================] - 1s 2ms/step - loss: 377.7387 - acc: 0.0011 - val_loss: 378.9783 - val_acc: 0.0011\n"
          ],
          "name": "stdout"
        }
      ]
    },
    {
      "cell_type": "code",
      "metadata": {
        "colab": {
          "base_uri": "https://localhost:8080/",
          "height": 265
        },
        "id": "329OfnxEVftp",
        "outputId": "943ace6b-140e-4e02-d744-486ed9733444"
      },
      "source": [
        "plt.plot(history.history['loss'], label='Train loss')\n",
        "plt.plot(history.history['val_loss'], label='Test Loss')\n",
        "plt.legend();"
      ],
      "execution_count": null,
      "outputs": [
        {
          "output_type": "display_data",
          "data": {
            "image/png": "[encoded data removed]",
            "text/plain": [
              "<Figure size 432x288 with 1 Axes>"
            ]
          },
          "metadata": {
            "tags": [],
            "needs_background": "light"
          }
        }
      ]
    },
    {
      "cell_type": "code",
      "metadata": {
        "colab": {
          "base_uri": "https://localhost:8080/",
          "height": 265
        },
        "id": "0lOKWthQVgYw",
        "outputId": "ea4fc6f5-4973-4b32-f292-96fde0f3ff1c"
      },
      "source": [
        "plt.plot(history.history['acc'], label='Train Accuracy')\n",
        "plt.plot(history.history['val_acc'], label='Test Accuracy')\n",
        "plt.legend();"
      ],
      "execution_count": null,
      "outputs": [
        {
          "output_type": "display_data",
          "data": {
            "image/png": "[encoded data removed]",
            "text/plain": [
              "<Figure size 432x288 with 1 Axes>"
            ]
          },
          "metadata": {
            "tags": [],
            "needs_background": "light"
          }
        }
      ]
    },
    {
      "cell_type": "markdown",
      "metadata": {
        "id": "IagbFk8HYL8a"
      },
      "source": [
        "This is not a good model. Ultimately Random Forest Regression Model gives the best result."
      ]
    },
    {
      "cell_type": "markdown",
      "metadata": {
        "id": "oA9qxd1cZMpg"
      },
      "source": [
        "# **Conclusion**"
      ]
    },
    {
      "cell_type": "markdown",
      "metadata": {
        "id": "gcenHgTnYVr-"
      },
      "source": [
        "Random Forest Regression Model gives us the best result with accuracy of ~72%\n",
        " \n",
        "\n",
        "1. If we look at the number of suicides/100k population, surprisingly most suicides are for age group 75+. Older people tend to be ignored in the society and feel lonely. \n",
        "\n",
        "Sol: To give extra attention to older people and make them feel part of the community.\n",
        "\n",
        "\n",
        "2. Historically, there is a lot of pressure on males in the society to be a successful bread winner and be mentally strong. I think this takes a toll. We should focus on the mental health of males. \n",
        "\n",
        "Sol: Give attention to the Men's mental health.\n",
        "\n",
        "\n",
        "3. Not at all surprisingly, GDP_per_capita plays a big role in the number of suicides. Higher GDP_per_capita indicates better quality of life and opportunities.\n",
        "\n",
        "Sol: Focus on developing country's financial condition and business as well as investment development of the country."
      ]
    }
  ]
}